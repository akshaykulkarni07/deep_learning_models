{
 "cells": [
  {
   "cell_type": "code",
   "execution_count": 7,
   "metadata": {},
   "outputs": [
    {
     "name": "stdout",
     "output_type": "stream",
     "text": [
      "1.0.0\n"
     ]
    }
   ],
   "source": [
    "# %matplotlib inline\n",
    "# %config InlineBackend.figure_format = 'retina'\n",
    "\n",
    "# import matplotlib.pyplot as plt\n",
    "\n",
    "import torch\n",
    "print(torch.__version__)\n",
    "import torchvision\n",
    "from torchvision import datasets, transforms\n",
    "import torch.nn as nn\n",
    "\n",
    "from IPython.display import clear_output\n",
    "\n",
    "import helper"
   ]
  },
  {
   "cell_type": "markdown",
   "metadata": {},
   "source": [
    "# Batch Gradient Descent"
   ]
  },
  {
   "cell_type": "code",
   "execution_count": 2,
   "metadata": {},
   "outputs": [],
   "source": [
    "data_dir = '/Users/akshaykulkarni/flowers/train/'\n",
    "batch_size = 1024\n",
    "tf = transforms.Compose([transforms.Resize((255, 255)),\n",
    "                         transforms.ToTensor(),\n",
    "                        ])\n",
    "\n",
    "train_dataset = datasets.ImageFolder(data_dir, transform = tf)\n",
    "\n",
    "train_loader = torch.utils.data.DataLoader(train_dataset, batch_size = batch_size, shuffle = True, drop_last = True)\n",
    "\n",
    "data_dir = '/Users/akshaykulkarni/flowers/test/'\n",
    "\n",
    "test_dataset = datasets.ImageFolder(data_dir, transform = tf)\n",
    "\n",
    "test_loader = torch.utils.data.DataLoader(test_dataset, batch_size = 32, shuffle = True, drop_last = True)"
   ]
  },
  {
   "cell_type": "code",
   "execution_count": 2,
   "metadata": {},
   "outputs": [
    {
     "ename": "NameError",
     "evalue": "name 'train_loader' is not defined",
     "output_type": "error",
     "traceback": [
      "\u001b[0;31m---------------------------------------------------------------------------\u001b[0m",
      "\u001b[0;31mNameError\u001b[0m                                 Traceback (most recent call last)",
      "\u001b[0;32m<ipython-input-2-019544deeeed>\u001b[0m in \u001b[0;36m<module>\u001b[0;34m()\u001b[0m\n\u001b[0;32m----> 1\u001b[0;31m \u001b[0mimages\u001b[0m\u001b[0;34m,\u001b[0m \u001b[0mlabels\u001b[0m \u001b[0;34m=\u001b[0m \u001b[0mnext\u001b[0m\u001b[0;34m(\u001b[0m\u001b[0miter\u001b[0m\u001b[0;34m(\u001b[0m\u001b[0mtrain_loader\u001b[0m\u001b[0;34m)\u001b[0m\u001b[0;34m)\u001b[0m\u001b[0;34m\u001b[0m\u001b[0m\n\u001b[0m\u001b[1;32m      2\u001b[0m \u001b[0mprint\u001b[0m\u001b[0;34m(\u001b[0m\u001b[0mimages\u001b[0m\u001b[0;34m.\u001b[0m\u001b[0mshape\u001b[0m\u001b[0;34m)\u001b[0m\u001b[0;34m\u001b[0m\u001b[0m\n\u001b[1;32m      3\u001b[0m \u001b[0mimages\u001b[0m \u001b[0;34m=\u001b[0m \u001b[0mimages\u001b[0m\u001b[0;34m.\u001b[0m\u001b[0mview\u001b[0m\u001b[0;34m(\u001b[0m\u001b[0;34m-\u001b[0m\u001b[0;36m1\u001b[0m\u001b[0;34m,\u001b[0m \u001b[0mimages\u001b[0m\u001b[0;34m.\u001b[0m\u001b[0mshape\u001b[0m\u001b[0;34m[\u001b[0m\u001b[0;36m0\u001b[0m\u001b[0;34m]\u001b[0m\u001b[0;34m)\u001b[0m\u001b[0;34m.\u001b[0m\u001b[0mfloat\u001b[0m\u001b[0;34m(\u001b[0m\u001b[0;34m)\u001b[0m\u001b[0;34m\u001b[0m\u001b[0m\n\u001b[1;32m      4\u001b[0m \u001b[0mprint\u001b[0m\u001b[0;34m(\u001b[0m\u001b[0mimages\u001b[0m\u001b[0;34m.\u001b[0m\u001b[0mshape\u001b[0m\u001b[0;34m)\u001b[0m\u001b[0;34m\u001b[0m\u001b[0m\n\u001b[1;32m      5\u001b[0m \u001b[0mimages\u001b[0m \u001b[0;34m/=\u001b[0m \u001b[0;36m255\u001b[0m\u001b[0;34m\u001b[0m\u001b[0m\n",
      "\u001b[0;31mNameError\u001b[0m: name 'train_loader' is not defined"
     ]
    }
   ],
   "source": [
    "images, labels = next(iter(train_loader))\n",
    "print(images.shape)\n",
    "images = images.view(-1, images.shape[0]).float()\n",
    "print(images.shape)\n",
    "images /= 255\n",
    "labels = labels.float()"
   ]
  },
  {
   "cell_type": "code",
   "execution_count": 23,
   "metadata": {},
   "outputs": [],
   "source": [
    "# Dimensions of different variables\n",
    "# W and dw - (n, 1)\n",
    "# b and db - (1)\n",
    "# images - (n, batch_size)\n",
    "# labels - (batch_size)\n",
    "# out and pred - (1, batch_size)\n",
    "# loss - (1)\n",
    "m = len(train_loader) * batch_size\n",
    "n = 255 * 255 * 3\n",
    "learning_rate = 2\n",
    "W = torch.randn(n, 1).float()\n",
    "b = torch.randn(1).float()\n",
    "num_epochs = 10"
   ]
  },
  {
   "cell_type": "code",
   "execution_count": 5,
   "metadata": {},
   "outputs": [],
   "source": [
    "def binary_cross_entropy(A, Y):\n",
    "    loss = (-1 / batch_size) * (torch.matmul(torch.log(A), Y) + torch.matmul(torch.log(1 - A), (1 - Y)))\n",
    "    return loss"
   ]
  },
  {
   "cell_type": "code",
   "execution_count": 6,
   "metadata": {},
   "outputs": [],
   "source": [
    "def sigmoid(x):\n",
    "    return (1 / (1 + torch.exp(-x)))"
   ]
  },
  {
   "cell_type": "code",
   "execution_count": 16,
   "metadata": {},
   "outputs": [],
   "source": [
    "def forward(x, y):\n",
    "    out = sigmoid(torch.add(torch.matmul(W.t(), x), b))\n",
    "    # size - (1, batch_size)\n",
    "    loss = binary_cross_entropy(out, y)\n",
    "    return loss, out"
   ]
  },
  {
   "cell_type": "code",
   "execution_count": 8,
   "metadata": {},
   "outputs": [],
   "source": [
    "def backward(A, Y, X):\n",
    "    Y2 = Y.view(1, Y.shape[0])\n",
    "    dz = A - Y2\n",
    "    dw = torch.matmul(X, dz.t()) / batch_size\n",
    "    db = torch.sum(dz) / batch_size\n",
    "    db = db.reshape([1])\n",
    "    assert(W.shape == dw.shape)\n",
    "    assert(b.shape == db.shape)\n",
    "    return dw, db"
   ]
  },
  {
   "cell_type": "code",
   "execution_count": 24,
   "metadata": {},
   "outputs": [
    {
     "name": "stdout",
     "output_type": "stream",
     "text": [
      "Loss at epoch  0  =  1.070543885231018\n",
      "Loss at epoch  20  =  0.6998060941696167\n",
      "Loss at epoch  40  =  0.6980695724487305\n",
      "Loss at epoch  60  =  0.6965532302856445\n",
      "Loss at epoch  80  =  0.6952072381973267\n",
      "Loss at epoch  100  =  0.6939963698387146\n",
      "Loss at epoch  120  =  0.6928946375846863\n",
      "Loss at epoch  140  =  0.6918826103210449\n",
      "Loss at epoch  160  =  0.6909450888633728\n",
      "Loss at epoch  180  =  0.6900707483291626\n",
      "Loss at epoch  200  =  0.6892505884170532\n",
      "Loss at epoch  220  =  0.6884773373603821\n",
      "Loss at epoch  240  =  0.6877448558807373\n",
      "Loss at epoch  260  =  0.6870485544204712\n",
      "Loss at epoch  280  =  0.6863839626312256\n",
      "Loss at epoch  300  =  0.6857475638389587\n",
      "Loss at epoch  320  =  0.6851369142532349\n",
      "Loss at epoch  340  =  0.6845489740371704\n",
      "Loss at epoch  360  =  0.6839815378189087\n",
      "Loss at epoch  380  =  0.6834332346916199\n",
      "Loss at epoch  400  =  0.6829017400741577\n",
      "Loss at epoch  420  =  0.6823862195014954\n",
      "Loss at epoch  440  =  0.6818849444389343\n",
      "Loss at epoch  460  =  0.6813971400260925\n",
      "Loss at epoch  480  =  0.6809215545654297\n",
      "Loss at epoch  500  =  0.680457353591919\n",
      "Loss at epoch  520  =  0.6800039410591125\n",
      "Loss at epoch  540  =  0.6795605421066284\n",
      "Loss at epoch  560  =  0.6791261434555054\n",
      "Loss at epoch  580  =  0.6787007451057434\n",
      "Loss at epoch  600  =  0.6782833933830261\n",
      "Loss at epoch  620  =  0.6778738498687744\n",
      "Loss at epoch  640  =  0.6774716377258301\n",
      "Loss at epoch  660  =  0.6770762801170349\n",
      "Loss at epoch  680  =  0.676687479019165\n",
      "Loss at epoch  700  =  0.6763049960136414\n",
      "Loss at epoch  720  =  0.6759284138679504\n",
      "Loss at epoch  740  =  0.6755573749542236\n",
      "Loss at epoch  760  =  0.6751918792724609\n",
      "Loss at epoch  780  =  0.6748315691947937\n",
      "Loss at epoch  800  =  0.6744760870933533\n",
      "Loss at epoch  820  =  0.6741254329681396\n",
      "Loss at epoch  840  =  0.6737792491912842\n",
      "Loss at epoch  860  =  0.6734374165534973\n",
      "Loss at epoch  880  =  0.6730998754501343\n",
      "Loss at epoch  900  =  0.6727662086486816\n",
      "Loss at epoch  920  =  0.6724364757537842\n",
      "Loss at epoch  940  =  0.6721104979515076\n",
      "Loss at epoch  960  =  0.671788215637207\n",
      "Loss at epoch  980  =  0.6714692115783691\n",
      "Loss at epoch  1000  =  0.6711536049842834\n",
      "Loss at epoch  1020  =  0.6708415150642395\n",
      "Loss at epoch  1040  =  0.6705322265625\n",
      "Loss at epoch  1060  =  0.6702261567115784\n",
      "Loss at epoch  1080  =  0.6699230670928955\n",
      "Loss at epoch  1100  =  0.6696227788925171\n",
      "Loss at epoch  1120  =  0.6693253517150879\n",
      "Loss at epoch  1140  =  0.6690305471420288\n",
      "Loss at epoch  1160  =  0.6687385439872742\n",
      "Loss at epoch  1180  =  0.668448805809021\n",
      "Loss at epoch  1200  =  0.6681616306304932\n",
      "Loss at epoch  1220  =  0.6678770780563354\n",
      "Loss at epoch  1240  =  0.6675947308540344\n",
      "Loss at epoch  1260  =  0.6673145890235901\n",
      "Loss at epoch  1280  =  0.667036771774292\n",
      "Loss at epoch  1300  =  0.666761040687561\n",
      "Loss at epoch  1320  =  0.6664875745773315\n",
      "Loss at epoch  1340  =  0.6662161350250244\n",
      "Loss at epoch  1360  =  0.6659466624259949\n",
      "Loss at epoch  1380  =  0.6656791567802429\n",
      "Loss at epoch  1400  =  0.6654136180877686\n",
      "Loss at epoch  1420  =  0.6651498675346375\n",
      "Loss at epoch  1440  =  0.6648881435394287\n",
      "Loss at epoch  1460  =  0.6646280288696289\n",
      "Loss at epoch  1480  =  0.6643698215484619\n",
      "Loss at epoch  1500  =  0.6641132831573486\n",
      "Loss at epoch  1520  =  0.6638585329055786\n",
      "Loss at epoch  1540  =  0.6636053323745728\n",
      "Loss at epoch  1560  =  0.6633536219596863\n",
      "Loss at epoch  1580  =  0.6631036996841431\n",
      "Loss at epoch  1600  =  0.662855327129364\n",
      "Loss at epoch  1620  =  0.66260826587677\n",
      "Loss at epoch  1640  =  0.6623629331588745\n",
      "Loss at epoch  1660  =  0.6621190905570984\n",
      "Loss at epoch  1680  =  0.6618765592575073\n",
      "Loss at epoch  1700  =  0.6616354584693909\n",
      "Loss at epoch  1720  =  0.6613959074020386\n",
      "Loss at epoch  1740  =  0.661157488822937\n",
      "Loss at epoch  1760  =  0.6609206199645996\n",
      "Loss at epoch  1780  =  0.6606850028038025\n",
      "Loss at epoch  1800  =  0.6604506373405457\n",
      "Loss at epoch  1820  =  0.6602175235748291\n",
      "Loss at epoch  1840  =  0.6599858999252319\n",
      "Loss at epoch  1860  =  0.6597553491592407\n",
      "Loss at epoch  1880  =  0.659525990486145\n",
      "Loss at epoch  1900  =  0.6592978239059448\n",
      "Loss at epoch  1920  =  0.6590708494186401\n",
      "Loss at epoch  1940  =  0.658845067024231\n",
      "Loss at epoch  1960  =  0.6586204171180725\n",
      "Loss at epoch  1980  =  0.6583969593048096\n",
      "Loss at epoch  2000  =  0.6581745743751526\n",
      "Loss at epoch  2020  =  0.6579532027244568\n",
      "Loss at epoch  2040  =  0.6577330827713013\n",
      "Loss at epoch  2060  =  0.6575139760971069\n",
      "Loss at epoch  2080  =  0.657295823097229\n",
      "Loss at epoch  2100  =  0.6570785045623779\n",
      "Loss at epoch  2120  =  0.6568624973297119\n",
      "Loss at epoch  2140  =  0.6566474437713623\n",
      "Loss at epoch  2160  =  0.6564333438873291\n",
      "Loss at epoch  2180  =  0.6562202572822571\n",
      "Loss at epoch  2200  =  0.656008243560791\n",
      "Loss at epoch  2220  =  0.655797004699707\n",
      "Loss at epoch  2240  =  0.655586838722229\n"
     ]
    },
    {
     "ename": "KeyboardInterrupt",
     "evalue": "",
     "output_type": "error",
     "traceback": [
      "\u001b[0;31m---------------------------------------------------------------------------\u001b[0m",
      "\u001b[0;31mKeyboardInterrupt\u001b[0m                         Traceback (most recent call last)",
      "\u001b[0;32m<ipython-input-24-a9510f286897>\u001b[0m in \u001b[0;36m<module>\u001b[0;34m()\u001b[0m\n\u001b[1;32m      8\u001b[0m     \u001b[0;31m# convert to float and resize images to (n, batch_size) size\u001b[0m\u001b[0;34m\u001b[0m\u001b[0;34m\u001b[0m\u001b[0m\n\u001b[1;32m      9\u001b[0m \u001b[0;34m\u001b[0m\u001b[0m\n\u001b[0;32m---> 10\u001b[0;31m     \u001b[0mloss\u001b[0m\u001b[0;34m,\u001b[0m \u001b[0mpred\u001b[0m \u001b[0;34m=\u001b[0m \u001b[0mforward\u001b[0m\u001b[0;34m(\u001b[0m\u001b[0mimages\u001b[0m\u001b[0;34m,\u001b[0m \u001b[0mlabels\u001b[0m\u001b[0;34m)\u001b[0m\u001b[0;34m\u001b[0m\u001b[0m\n\u001b[0m\u001b[1;32m     11\u001b[0m     \u001b[0mepoch_loss\u001b[0m \u001b[0;34m=\u001b[0m \u001b[0mloss\u001b[0m\u001b[0;34m.\u001b[0m\u001b[0mitem\u001b[0m\u001b[0;34m(\u001b[0m\u001b[0;34m)\u001b[0m\u001b[0;34m\u001b[0m\u001b[0m\n\u001b[1;32m     12\u001b[0m     \u001b[0mloss_list\u001b[0m\u001b[0;34m.\u001b[0m\u001b[0mappend\u001b[0m\u001b[0;34m(\u001b[0m\u001b[0mloss\u001b[0m\u001b[0;34m.\u001b[0m\u001b[0mitem\u001b[0m\u001b[0;34m(\u001b[0m\u001b[0;34m)\u001b[0m\u001b[0;34m)\u001b[0m\u001b[0;34m\u001b[0m\u001b[0m\n",
      "\u001b[0;32m<ipython-input-16-aecbb6f321dc>\u001b[0m in \u001b[0;36mforward\u001b[0;34m(x, y)\u001b[0m\n\u001b[1;32m      1\u001b[0m \u001b[0;32mdef\u001b[0m \u001b[0mforward\u001b[0m\u001b[0;34m(\u001b[0m\u001b[0mx\u001b[0m\u001b[0;34m,\u001b[0m \u001b[0my\u001b[0m\u001b[0;34m)\u001b[0m\u001b[0;34m:\u001b[0m\u001b[0;34m\u001b[0m\u001b[0m\n\u001b[0;32m----> 2\u001b[0;31m     \u001b[0mout\u001b[0m \u001b[0;34m=\u001b[0m \u001b[0msigmoid\u001b[0m\u001b[0;34m(\u001b[0m\u001b[0mtorch\u001b[0m\u001b[0;34m.\u001b[0m\u001b[0madd\u001b[0m\u001b[0;34m(\u001b[0m\u001b[0mtorch\u001b[0m\u001b[0;34m.\u001b[0m\u001b[0mmatmul\u001b[0m\u001b[0;34m(\u001b[0m\u001b[0mW\u001b[0m\u001b[0;34m.\u001b[0m\u001b[0mt\u001b[0m\u001b[0;34m(\u001b[0m\u001b[0;34m)\u001b[0m\u001b[0;34m,\u001b[0m \u001b[0mx\u001b[0m\u001b[0;34m)\u001b[0m\u001b[0;34m,\u001b[0m \u001b[0mb\u001b[0m\u001b[0;34m)\u001b[0m\u001b[0;34m)\u001b[0m\u001b[0;34m\u001b[0m\u001b[0m\n\u001b[0m\u001b[1;32m      3\u001b[0m     \u001b[0;31m# size - (1, batch_size)\u001b[0m\u001b[0;34m\u001b[0m\u001b[0;34m\u001b[0m\u001b[0m\n\u001b[1;32m      4\u001b[0m     \u001b[0mloss\u001b[0m \u001b[0;34m=\u001b[0m \u001b[0mbinary_cross_entropy\u001b[0m\u001b[0;34m(\u001b[0m\u001b[0mout\u001b[0m\u001b[0;34m,\u001b[0m \u001b[0my\u001b[0m\u001b[0;34m)\u001b[0m\u001b[0;34m\u001b[0m\u001b[0m\n\u001b[1;32m      5\u001b[0m     \u001b[0;32mreturn\u001b[0m \u001b[0mloss\u001b[0m\u001b[0;34m,\u001b[0m \u001b[0mout\u001b[0m\u001b[0;34m\u001b[0m\u001b[0m\n",
      "\u001b[0;31mKeyboardInterrupt\u001b[0m: "
     ]
    }
   ],
   "source": [
    "# Batch Gradient Descent\n",
    "loss_list = list()\n",
    "for i in range(4000):\n",
    "    # convert to GPU tensors\n",
    "    if torch.cuda.is_available():\n",
    "        images, labels = images.cuda(), labels.cuda()\n",
    "        W, b = W.cuda(), b.cuda()\n",
    "\n",
    "    loss, pred = forward(images, labels)\n",
    "    epoch_loss = loss.item()\n",
    "    loss_list.append(loss.item())\n",
    "    dw, db = backward(pred, labels, images)\n",
    "    # updating weights\n",
    "    W = W - (learning_rate * dw)\n",
    "    b = b - (learning_rate * db)\n",
    "    \n",
    "#     print(W)\n",
    "#     print(b)\n",
    "    if i % 20 == 0:\n",
    "        print('Loss at epoch ', i, ' = ', epoch_loss)"
   ]
  },
  {
   "cell_type": "code",
   "execution_count": 25,
   "metadata": {},
   "outputs": [
    {
     "name": "stdout",
     "output_type": "stream",
     "text": [
      "Training accuracy =  tensor(62.0117)\n"
     ]
    }
   ],
   "source": [
    "if torch.cuda.is_available():\n",
    "    images = images.cuda()\n",
    "    labels = labels.cuda()\n",
    "    W = W.cuda()\n",
    "    b = b.cuda()\n",
    "    \n",
    "loss, pred = forward(images, labels)\n",
    "pred = (pred >= 0.5)\n",
    "\n",
    "pred = pred.view(pred.shape[1])\n",
    "mismatch = (torch.eq(pred, labels.byte()))\n",
    "acc = torch.sum(mismatch.float())\n",
    "acc = acc * 100 / 1024\n",
    "print('Training accuracy = ', acc)\n",
    "\n",
    "# acc = 0\n",
    "# for batch_idx, (images, labels) in enumerate(test_loader):\n",
    "#     if torch.cuda.is_available():\n",
    "#         images = images.cuda()\n",
    "#         labels = labels.cuda()\n",
    "#         W = W.cuda()\n",
    "#         b = b.cuda()\n",
    "#     labels = labels.float()\n",
    "#     images = images.view(-1, images.shape[0]).float()\n",
    "#     images /= 255\n",
    "\n",
    "#     loss, pred = forward(images, labels)\n",
    "#     pred = (pred >= 0.5)\n",
    "\n",
    "#     pred = pred.view(pred.shape[1])\n",
    "#     mismatch = torch.sum(torch.eq(pred, labels.byte()))\n",
    "#     acc += mismatch.item()\n",
    "\n",
    "# acc /= (len(test_loader) * 32)\n",
    "# print('Validation accuracy = ', acc * 100)"
   ]
  },
  {
   "cell_type": "markdown",
   "metadata": {},
   "source": [
    "# Mini-Batch Gradient Descent"
   ]
  },
  {
   "cell_type": "code",
   "execution_count": 11,
   "metadata": {},
   "outputs": [
    {
     "name": "stdout",
     "output_type": "stream",
     "text": [
      "No. of training images -  1376\n",
      "No. of testing images -  96\n"
     ]
    }
   ],
   "source": [
    "data_dir = '/home/ivlabs/users/akshay/flowers/train/'\n",
    "batch_size = 32\n",
    "tf = transforms.Compose([transforms.Resize((255, 255)),\n",
    "                         transforms.RandomHorizontalFlip(p = 0.5),\n",
    "                         transforms.ToTensor(),\n",
    "                        ])\n",
    "\n",
    "train_dataset = datasets.ImageFolder(data_dir, transform = tf)\n",
    "\n",
    "train_loader = torch.utils.data.DataLoader(train_dataset, batch_size = batch_size, shuffle = True, drop_last = True)\n",
    "\n",
    "data_dir = '/home/ivlabs/users/akshay/flowers/test/'\n",
    "\n",
    "test_dataset = datasets.ImageFolder(data_dir, transform = tf)\n",
    "\n",
    "test_loader = torch.utils.data.DataLoader(test_dataset, batch_size = batch_size, shuffle = True, drop_last = True)\n",
    "\n",
    "print('No. of training images - ', len(train_loader) * batch_size)\n",
    "print('No. of testing images - ', len(test_loader) * batch_size)"
   ]
  },
  {
   "cell_type": "code",
   "execution_count": 12,
   "metadata": {},
   "outputs": [],
   "source": [
    "# Dimensions of different variables\n",
    "# W and dw - (n, 1)\n",
    "# b and db - (1)\n",
    "# images - (n, batch_size)\n",
    "# labels - (batch_size)\n",
    "# out and pred - (1, batch_size)\n",
    "# loss - (1)\n",
    "m = len(train_loader) * batch_size\n",
    "n = 255 * 255 * 3\n",
    "learning_rate = 1\n",
    "# W = torch.randn(n, 1).float()\n",
    "b = torch.randn(1).float()\n",
    "# Xavier initialization of weights\n",
    "W = torch.empty(n, 1)\n",
    "nn.init.xavier_uniform_(W, gain=nn.init.calculate_gain('sigmoid'))\n",
    "num_epochs = 500"
   ]
  },
  {
   "cell_type": "code",
   "execution_count": 13,
   "metadata": {},
   "outputs": [],
   "source": [
    "def binary_cross_entropy(A, Y):\n",
    "    loss = (-1 / batch_size) * (torch.matmul(torch.log(A), Y) + torch.matmul(torch.log(1 - A), (1 - Y)))\n",
    "    return loss\n",
    "\n",
    "def sigmoid(x):\n",
    "    return (1 / (1 + torch.exp(-x)))\n",
    "\n",
    "def forward(x, y):\n",
    "    out = torch.add(torch.matmul(W.t(), x), b)\n",
    "    out = sigmoid(out)\n",
    "    # size - (1, batch_size)\n",
    "    loss = binary_cross_entropy(out, y)\n",
    "    return loss, out\n",
    "\n",
    "def backward(A, Y, X):\n",
    "    Y2 = Y.view(1, Y.shape[0])\n",
    "    dz = A - Y2\n",
    "    dw = torch.matmul(X, dz.t()) / batch_size\n",
    "    db = torch.sum(dz) / batch_size\n",
    "    db = db.reshape([1])\n",
    "    assert(W.shape == dw.shape)\n",
    "    assert(b.shape == db.shape)\n",
    "    return dw, db"
   ]
  },
  {
   "cell_type": "code",
   "execution_count": 15,
   "metadata": {},
   "outputs": [
    {
     "name": "stdout",
     "output_type": "stream",
     "text": [
      "Loss at epoch  0  =  0.9934323020279408\n",
      "Validation accuracy =  66.66666666666666\n",
      "Loss at epoch  1  =  0.9763908199965954\n",
      "Validation accuracy =  37.5\n",
      "Loss at epoch  2  =  0.964224262163043\n",
      "Validation accuracy =  65.625\n"
     ]
    }
   ],
   "source": [
    "train_acc_list = list()\n",
    "train_loss_list = list()\n",
    "val_loss_list = list()\n",
    "val_acc_list = list()\n",
    "for i in range(num_epochs):\n",
    "    train_loss = 0\n",
    "    train_acc = 0\n",
    "    DW = torch.zeros(n, 1).float()\n",
    "    DB = torch.zeros(1).float()\n",
    "    for batch_idx, (images, labels) in enumerate(train_loader):\n",
    "        # convert to GPU tensors\n",
    "        if torch.cuda.is_available():\n",
    "            images, labels = images.cuda(), labels.cuda()\n",
    "            W, b = W.cuda(), b.cuda()\n",
    "            DW, DB = DW.cuda(), DB.cuda()\n",
    "\n",
    "        # convert to float and resize images to (n, batch_size) size\n",
    "        labels = labels.float()\n",
    "        images = images.view(-1, images.shape[0]).float()\n",
    "        images /= 255\n",
    "\n",
    "        loss, pred = forward(images, labels)\n",
    "        train_loss += loss.item()\n",
    "\n",
    "        dw, db = backward(pred, labels, images)\n",
    "        assert(DW.shape == dw.shape)\n",
    "        assert(DB.shape == db.shape)\n",
    "        DW += dw\n",
    "        DB += db\n",
    "\n",
    "        pred = (pred >= 0.5)\n",
    "        pred = pred.view(pred.shape[1])\n",
    "        mismatch = torch.sum(torch.eq(pred, labels.byte()))\n",
    "        train_acc += mismatch.item()\n",
    "\n",
    "    DB /= len(train_loader)\n",
    "    DW /= len(train_loader)\n",
    "    # updating weights\n",
    "    W = W - (learning_rate * DW)\n",
    "    b = b - (learning_rate * DB)\n",
    "\n",
    "    if i % 25 == 0:\n",
    "        weights_name = 'weights_' + str(i) + '.pt'\n",
    "        bias_name = 'bias_' + str(i) + '.pt'\n",
    "        torch.save(W, weights_name)\n",
    "        torch.save(b, bias_name)\n",
    "#     print(W)\n",
    "#     print(b)\n",
    "\n",
    "    train_loss /= len(train_loader)\n",
    "    train_loss_list.append(train_loss)\n",
    "    # print(f'Training Loss at {i} is equal to {epoch_loss}')\n",
    "\n",
    "    train_acc /= (len(train_loader) * batch_size)\n",
    "    train_acc_list.append(train_acc * 100)\n",
    "    # print('Training accuracy at epoch ', i, ' = ', acc * 100)\n",
    "\n",
    "    val_loss = 0\n",
    "    val_acc = 0\n",
    "    for batch_idx, (images, labels) in enumerate(test_loader):\n",
    "        if torch.cuda.is_available():\n",
    "            images = images.cuda()\n",
    "            labels = labels.cuda()\n",
    "            W = W.cuda()\n",
    "            b = b.cuda()\n",
    "        labels = labels.float()\n",
    "        images = images.view(-1, images.shape[0]).float()\n",
    "        images /= 255\n",
    "\n",
    "        loss, pred = forward(images, labels)\n",
    "        val_loss += loss.item()\n",
    "        pred = (pred >= 0.5)\n",
    "\n",
    "        pred = pred.view(pred.shape[1])\n",
    "        mismatch = torch.sum(torch.eq(pred, labels.byte()))\n",
    "        val_acc += mismatch.item()\n",
    "\n",
    "    val_loss /= len(test_loader)\n",
    "    val_loss_list.append(val_loss)\n",
    "    # print('Validation Loss at epoch ', i, ' = ', val_loss)\n",
    "\n",
    "    val_acc /= (len(test_loader) * batch_size)\n",
    "    val_acc_list.append(val_acc * 100)\n",
    "    # print('Validation accuracy at epoch ', i, ' = ', val_acc * 100)\n",
    "    print(f'Epoch : [{i} / {num_epochs}] | TL : {train_loss} | TA : {train_acc * 100} | VL : {val_loss} | VA : {val_acc}')"
   ]
  },
  {
   "cell_type": "code",
   "execution_count": 53,
   "metadata": {},
   "outputs": [
    {
     "ename": "ValueError",
     "evalue": "x and y must have same first dimension, but have shapes (50,) and (5000,)",
     "output_type": "error",
     "traceback": [
      "\u001b[0;31m---------------------------------------------------------------------------\u001b[0m",
      "\u001b[0;31mValueError\u001b[0m                                Traceback (most recent call last)",
      "\u001b[0;32m<ipython-input-53-ca131e3c56ed>\u001b[0m in \u001b[0;36m<module>\u001b[0;34m()\u001b[0m\n\u001b[1;32m      3\u001b[0m \u001b[0mplt\u001b[0m\u001b[0;34m.\u001b[0m\u001b[0mplot\u001b[0m\u001b[0;34m(\u001b[0m\u001b[0mnum_iterations\u001b[0m\u001b[0;34m,\u001b[0m \u001b[0mtrain_loss_list\u001b[0m\u001b[0;34m,\u001b[0m \u001b[0;34m'r'\u001b[0m\u001b[0;34m)\u001b[0m\u001b[0;34m\u001b[0m\u001b[0m\n\u001b[1;32m      4\u001b[0m \u001b[0mval_acc_list\u001b[0m \u001b[0;34m*=\u001b[0m \u001b[0;36m100\u001b[0m\u001b[0;34m\u001b[0m\u001b[0m\n\u001b[0;32m----> 5\u001b[0;31m \u001b[0mplt\u001b[0m\u001b[0;34m.\u001b[0m\u001b[0mplot\u001b[0m\u001b[0;34m(\u001b[0m\u001b[0mnum_iterations\u001b[0m\u001b[0;34m,\u001b[0m \u001b[0mval_acc_list\u001b[0m\u001b[0;34m,\u001b[0m \u001b[0;34m'g'\u001b[0m\u001b[0;34m)\u001b[0m\u001b[0;34m\u001b[0m\u001b[0m\n\u001b[0m",
      "\u001b[0;32m~/anaconda3/lib/python3.7/site-packages/matplotlib/pyplot.py\u001b[0m in \u001b[0;36mplot\u001b[0;34m(*args, **kwargs)\u001b[0m\n\u001b[1;32m   3361\u001b[0m                       mplDeprecation)\n\u001b[1;32m   3362\u001b[0m     \u001b[0;32mtry\u001b[0m\u001b[0;34m:\u001b[0m\u001b[0;34m\u001b[0m\u001b[0m\n\u001b[0;32m-> 3363\u001b[0;31m         \u001b[0mret\u001b[0m \u001b[0;34m=\u001b[0m \u001b[0max\u001b[0m\u001b[0;34m.\u001b[0m\u001b[0mplot\u001b[0m\u001b[0;34m(\u001b[0m\u001b[0;34m*\u001b[0m\u001b[0margs\u001b[0m\u001b[0;34m,\u001b[0m \u001b[0;34m**\u001b[0m\u001b[0mkwargs\u001b[0m\u001b[0;34m)\u001b[0m\u001b[0;34m\u001b[0m\u001b[0m\n\u001b[0m\u001b[1;32m   3364\u001b[0m     \u001b[0;32mfinally\u001b[0m\u001b[0;34m:\u001b[0m\u001b[0;34m\u001b[0m\u001b[0m\n\u001b[1;32m   3365\u001b[0m         \u001b[0max\u001b[0m\u001b[0;34m.\u001b[0m\u001b[0m_hold\u001b[0m \u001b[0;34m=\u001b[0m \u001b[0mwashold\u001b[0m\u001b[0;34m\u001b[0m\u001b[0m\n",
      "\u001b[0;32m~/anaconda3/lib/python3.7/site-packages/matplotlib/__init__.py\u001b[0m in \u001b[0;36minner\u001b[0;34m(ax, *args, **kwargs)\u001b[0m\n\u001b[1;32m   1865\u001b[0m                         \u001b[0;34m\"the Matplotlib list!)\"\u001b[0m \u001b[0;34m%\u001b[0m \u001b[0;34m(\u001b[0m\u001b[0mlabel_namer\u001b[0m\u001b[0;34m,\u001b[0m \u001b[0mfunc\u001b[0m\u001b[0;34m.\u001b[0m\u001b[0m__name__\u001b[0m\u001b[0;34m)\u001b[0m\u001b[0;34m,\u001b[0m\u001b[0;34m\u001b[0m\u001b[0m\n\u001b[1;32m   1866\u001b[0m                         RuntimeWarning, stacklevel=2)\n\u001b[0;32m-> 1867\u001b[0;31m             \u001b[0;32mreturn\u001b[0m \u001b[0mfunc\u001b[0m\u001b[0;34m(\u001b[0m\u001b[0max\u001b[0m\u001b[0;34m,\u001b[0m \u001b[0;34m*\u001b[0m\u001b[0margs\u001b[0m\u001b[0;34m,\u001b[0m \u001b[0;34m**\u001b[0m\u001b[0mkwargs\u001b[0m\u001b[0;34m)\u001b[0m\u001b[0;34m\u001b[0m\u001b[0m\n\u001b[0m\u001b[1;32m   1868\u001b[0m \u001b[0;34m\u001b[0m\u001b[0m\n\u001b[1;32m   1869\u001b[0m         inner.__doc__ = _add_data_doc(inner.__doc__,\n",
      "\u001b[0;32m~/anaconda3/lib/python3.7/site-packages/matplotlib/axes/_axes.py\u001b[0m in \u001b[0;36mplot\u001b[0;34m(self, *args, **kwargs)\u001b[0m\n\u001b[1;32m   1526\u001b[0m         \u001b[0mkwargs\u001b[0m \u001b[0;34m=\u001b[0m \u001b[0mcbook\u001b[0m\u001b[0;34m.\u001b[0m\u001b[0mnormalize_kwargs\u001b[0m\u001b[0;34m(\u001b[0m\u001b[0mkwargs\u001b[0m\u001b[0;34m,\u001b[0m \u001b[0m_alias_map\u001b[0m\u001b[0;34m)\u001b[0m\u001b[0;34m\u001b[0m\u001b[0m\n\u001b[1;32m   1527\u001b[0m \u001b[0;34m\u001b[0m\u001b[0m\n\u001b[0;32m-> 1528\u001b[0;31m         \u001b[0;32mfor\u001b[0m \u001b[0mline\u001b[0m \u001b[0;32min\u001b[0m \u001b[0mself\u001b[0m\u001b[0;34m.\u001b[0m\u001b[0m_get_lines\u001b[0m\u001b[0;34m(\u001b[0m\u001b[0;34m*\u001b[0m\u001b[0margs\u001b[0m\u001b[0;34m,\u001b[0m \u001b[0;34m**\u001b[0m\u001b[0mkwargs\u001b[0m\u001b[0;34m)\u001b[0m\u001b[0;34m:\u001b[0m\u001b[0;34m\u001b[0m\u001b[0m\n\u001b[0m\u001b[1;32m   1529\u001b[0m             \u001b[0mself\u001b[0m\u001b[0;34m.\u001b[0m\u001b[0madd_line\u001b[0m\u001b[0;34m(\u001b[0m\u001b[0mline\u001b[0m\u001b[0;34m)\u001b[0m\u001b[0;34m\u001b[0m\u001b[0m\n\u001b[1;32m   1530\u001b[0m             \u001b[0mlines\u001b[0m\u001b[0;34m.\u001b[0m\u001b[0mappend\u001b[0m\u001b[0;34m(\u001b[0m\u001b[0mline\u001b[0m\u001b[0;34m)\u001b[0m\u001b[0;34m\u001b[0m\u001b[0m\n",
      "\u001b[0;32m~/anaconda3/lib/python3.7/site-packages/matplotlib/axes/_base.py\u001b[0m in \u001b[0;36m_grab_next_args\u001b[0;34m(self, *args, **kwargs)\u001b[0m\n\u001b[1;32m    404\u001b[0m                 \u001b[0mthis\u001b[0m \u001b[0;34m+=\u001b[0m \u001b[0margs\u001b[0m\u001b[0;34m[\u001b[0m\u001b[0;36m0\u001b[0m\u001b[0;34m]\u001b[0m\u001b[0;34m,\u001b[0m\u001b[0;34m\u001b[0m\u001b[0m\n\u001b[1;32m    405\u001b[0m                 \u001b[0margs\u001b[0m \u001b[0;34m=\u001b[0m \u001b[0margs\u001b[0m\u001b[0;34m[\u001b[0m\u001b[0;36m1\u001b[0m\u001b[0;34m:\u001b[0m\u001b[0;34m]\u001b[0m\u001b[0;34m\u001b[0m\u001b[0m\n\u001b[0;32m--> 406\u001b[0;31m             \u001b[0;32mfor\u001b[0m \u001b[0mseg\u001b[0m \u001b[0;32min\u001b[0m \u001b[0mself\u001b[0m\u001b[0;34m.\u001b[0m\u001b[0m_plot_args\u001b[0m\u001b[0;34m(\u001b[0m\u001b[0mthis\u001b[0m\u001b[0;34m,\u001b[0m \u001b[0mkwargs\u001b[0m\u001b[0;34m)\u001b[0m\u001b[0;34m:\u001b[0m\u001b[0;34m\u001b[0m\u001b[0m\n\u001b[0m\u001b[1;32m    407\u001b[0m                 \u001b[0;32myield\u001b[0m \u001b[0mseg\u001b[0m\u001b[0;34m\u001b[0m\u001b[0m\n\u001b[1;32m    408\u001b[0m \u001b[0;34m\u001b[0m\u001b[0m\n",
      "\u001b[0;32m~/anaconda3/lib/python3.7/site-packages/matplotlib/axes/_base.py\u001b[0m in \u001b[0;36m_plot_args\u001b[0;34m(self, tup, kwargs)\u001b[0m\n\u001b[1;32m    381\u001b[0m             \u001b[0mx\u001b[0m\u001b[0;34m,\u001b[0m \u001b[0my\u001b[0m \u001b[0;34m=\u001b[0m \u001b[0mindex_of\u001b[0m\u001b[0;34m(\u001b[0m\u001b[0mtup\u001b[0m\u001b[0;34m[\u001b[0m\u001b[0;34m-\u001b[0m\u001b[0;36m1\u001b[0m\u001b[0;34m]\u001b[0m\u001b[0;34m)\u001b[0m\u001b[0;34m\u001b[0m\u001b[0m\n\u001b[1;32m    382\u001b[0m \u001b[0;34m\u001b[0m\u001b[0m\n\u001b[0;32m--> 383\u001b[0;31m         \u001b[0mx\u001b[0m\u001b[0;34m,\u001b[0m \u001b[0my\u001b[0m \u001b[0;34m=\u001b[0m \u001b[0mself\u001b[0m\u001b[0;34m.\u001b[0m\u001b[0m_xy_from_xy\u001b[0m\u001b[0;34m(\u001b[0m\u001b[0mx\u001b[0m\u001b[0;34m,\u001b[0m \u001b[0my\u001b[0m\u001b[0;34m)\u001b[0m\u001b[0;34m\u001b[0m\u001b[0m\n\u001b[0m\u001b[1;32m    384\u001b[0m \u001b[0;34m\u001b[0m\u001b[0m\n\u001b[1;32m    385\u001b[0m         \u001b[0;32mif\u001b[0m \u001b[0mself\u001b[0m\u001b[0;34m.\u001b[0m\u001b[0mcommand\u001b[0m \u001b[0;34m==\u001b[0m \u001b[0;34m'plot'\u001b[0m\u001b[0;34m:\u001b[0m\u001b[0;34m\u001b[0m\u001b[0m\n",
      "\u001b[0;32m~/anaconda3/lib/python3.7/site-packages/matplotlib/axes/_base.py\u001b[0m in \u001b[0;36m_xy_from_xy\u001b[0;34m(self, x, y)\u001b[0m\n\u001b[1;32m    240\u001b[0m         \u001b[0;32mif\u001b[0m \u001b[0mx\u001b[0m\u001b[0;34m.\u001b[0m\u001b[0mshape\u001b[0m\u001b[0;34m[\u001b[0m\u001b[0;36m0\u001b[0m\u001b[0;34m]\u001b[0m \u001b[0;34m!=\u001b[0m \u001b[0my\u001b[0m\u001b[0;34m.\u001b[0m\u001b[0mshape\u001b[0m\u001b[0;34m[\u001b[0m\u001b[0;36m0\u001b[0m\u001b[0;34m]\u001b[0m\u001b[0;34m:\u001b[0m\u001b[0;34m\u001b[0m\u001b[0m\n\u001b[1;32m    241\u001b[0m             raise ValueError(\"x and y must have same first dimension, but \"\n\u001b[0;32m--> 242\u001b[0;31m                              \"have shapes {} and {}\".format(x.shape, y.shape))\n\u001b[0m\u001b[1;32m    243\u001b[0m         \u001b[0;32mif\u001b[0m \u001b[0mx\u001b[0m\u001b[0;34m.\u001b[0m\u001b[0mndim\u001b[0m \u001b[0;34m>\u001b[0m \u001b[0;36m2\u001b[0m \u001b[0;32mor\u001b[0m \u001b[0my\u001b[0m\u001b[0;34m.\u001b[0m\u001b[0mndim\u001b[0m \u001b[0;34m>\u001b[0m \u001b[0;36m2\u001b[0m\u001b[0;34m:\u001b[0m\u001b[0;34m\u001b[0m\u001b[0m\n\u001b[1;32m    244\u001b[0m             raise ValueError(\"x and y can be no greater than 2-D, but have \"\n",
      "\u001b[0;31mValueError\u001b[0m: x and y must have same first dimension, but have shapes (50,) and (5000,)"
     ]
    },
    {
     "data": {
      "image/png": "[encoded data removed]",
      "text/plain": [
       "<Figure size 432x288 with 1 Axes>"
      ]
     },
     "metadata": {
      "image/png": {
       "height": 250,
       "width": 380
      },
      "needs_background": "light"
     },
     "output_type": "display_data"
    }
   ],
   "source": [
    "import csv\n",
    "\n",
    "csvfile = \"train_loss_list_500epochs.csv\"\n",
    "with open(csvfile, \"w\") as output:\n",
    "    writer = csv.writer(output, lineterminator='\\n')\n",
    "    for value in train_loss_list:\n",
    "        writer.writerow([value])\n",
    "\n",
    "csvfile = \"val_loss_list_500epochs.csv\"\n",
    "with open(csvfile, \"w\") as output:\n",
    "    writer = csv.writer(output, lineterminator='\\n')\n",
    "    for value in val_loss_list:\n",
    "        writer.writerow([value])\n",
    "\n",
    "csvfile = \"train_acc_list_500epochs.csv\"\n",
    "with open(csvfile, \"w\") as output:\n",
    "    writer = csv.writer(output, lineterminator='\\n')\n",
    "    for value in train_acc_list:\n",
    "        writer.writerow([value])\n",
    "\n",
    "csvfile = \"val_acc_list_500epochs.csv\"\n",
    "with open(csvfile, \"w\") as output:\n",
    "    writer = csv.writer(output, lineterminator='\\n')\n",
    "    for value in val_acc_list:\n",
    "        writer.writerow([value])"
   ]
  },
  {
   "cell_type": "code",
   "execution_count": null,
   "metadata": {},
   "outputs": [],
   "source": []
  }
 ],
 "metadata": {
  "kernelspec": {
   "display_name": "Python 3",
   "language": "python",
   "name": "python3"
  },
  "language_info": {
   "codemirror_mode": {
    "name": "ipython",
    "version": 3
   },
   "file_extension": ".py",
   "mimetype": "text/x-python",
   "name": "python",
   "nbconvert_exporter": "python",
   "pygments_lexer": "ipython3",
   "version": "3.7.1"
  }
 },
 "nbformat": 4,
 "nbformat_minor": 2
}
