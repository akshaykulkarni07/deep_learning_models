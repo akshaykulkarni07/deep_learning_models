{
 "cells": [
  {
   "cell_type": "code",
   "execution_count": 1,
   "metadata": {},
   "outputs": [
    {
     "name": "stdout",
     "output_type": "stream",
     "text": [
      "0.4.1\n"
     ]
    }
   ],
   "source": [
    "%matplotlib inline\n",
    "%config InlineBackend.figure_format = 'retina'\n",
    "\n",
    "import matplotlib.pyplot as plt\n",
    "\n",
    "import torch\n",
    "print(torch.__version__)\n",
    "import torchvision\n",
    "from torchvision import datasets, transforms\n",
    "import torch.nn as nn\n",
    "\n",
    "from IPython.display import clear_output\n",
    "\n",
    "import helper"
   ]
  },
  {
   "cell_type": "markdown",
   "metadata": {},
   "source": [
    "# Batch Gradient Descent (with momentum) and Binary Classification"
   ]
  },
  {
   "cell_type": "code",
   "execution_count": 2,
   "metadata": {},
   "outputs": [],
   "source": [
    "data_dir = '/Users/akshaykulkarni/flowers/train/'\n",
    "batch_size = 1024\n",
    "tf = transforms.Compose([transforms.Resize((255, 255)),\n",
    "                         transforms.ToTensor(),\n",
    "                        ])\n",
    "\n",
    "train_dataset = datasets.ImageFolder(data_dir, transform = tf)\n",
    "\n",
    "train_loader = torch.utils.data.DataLoader(train_dataset, batch_size = batch_size, shuffle = True, drop_last = True)\n",
    "\n",
    "data_dir = '/Users/akshaykulkarni/flowers/test/'\n",
    "\n",
    "test_dataset = datasets.ImageFolder(data_dir, transform = tf)\n",
    "\n",
    "test_loader = torch.utils.data.DataLoader(test_dataset, batch_size = 32, shuffle = True, drop_last = True)"
   ]
  },
  {
   "cell_type": "markdown",
   "metadata": {},
   "source": [
    "### Loading all the images in the single batch and flattening"
   ]
  },
  {
   "cell_type": "code",
   "execution_count": 3,
   "metadata": {},
   "outputs": [
    {
     "name": "stdout",
     "output_type": "stream",
     "text": [
      "torch.Size([1024, 3, 255, 255])\n",
      "torch.Size([195075, 1024])\n",
      "torch.Size([1024])\n"
     ]
    }
   ],
   "source": [
    "images, labels = next(iter(train_loader))\n",
    "print(images.shape)\n",
    "images = images.view(-1, images.shape[0]).float()\n",
    "print(images.shape)\n",
    "images /= 255\n",
    "labels = labels.float()\n",
    "print(labels.shape)"
   ]
  },
  {
   "cell_type": "markdown",
   "metadata": {},
   "source": [
    "### Initializing the parameters using no. of nodes and no. of layers"
   ]
  },
  {
   "cell_type": "code",
   "execution_count": 19,
   "metadata": {},
   "outputs": [],
   "source": [
    "# no. of layers\n",
    "layers = 3\n",
    "# no. of nodes in each layer in a list including input and output layers\n",
    "num_nodes = [images.shape[0], 512, 1]\n",
    "num_epochs = 5\n",
    "\n",
    "# initializing weights according to no. of layers and no. of nodes\n",
    "assert(layers == len(num_nodes))\n",
    "W = {}\n",
    "b = {}\n",
    "Z = {}\n",
    "dw = {}\n",
    "db = {}\n",
    "da = {}\n",
    "dz = {}\n",
    "vdw = {}\n",
    "vdb = {}\n",
    "# Initialize Weights and Momentum \n",
    "for i in range(1, layers):\n",
    "    var_name = str(i)\n",
    "    \n",
    "    # Weight initialization\n",
    "    W[var_name] = torch.empty(num_nodes[i - 1], num_nodes[i])\n",
    "    # Xavier initialization of weights\n",
    "    nn.init.xavier_uniform_(W[var_name], gain=nn.init.calculate_gain('sigmoid'))\n",
    "    b[var_name] = torch.randn(num_nodes[i], 1)\n",
    "    \n",
    "    # Momentum gradient terms initialization\n",
    "    vdw[var_name] = torch.zeros(W[var_name].shape)\n",
    "    vdb[var_name] = torch.zeros(b[var_name].shape)\n",
    "    "
   ]
  },
  {
   "cell_type": "markdown",
   "metadata": {},
   "source": [
    "### Loss and Activation Functions"
   ]
  },
  {
   "cell_type": "code",
   "execution_count": 14,
   "metadata": {},
   "outputs": [],
   "source": [
    "def binary_cross_entropy(A, Y):\n",
    "    loss = (-1 / batch_size) * (torch.matmul(torch.log(A), Y) + torch.matmul(torch.log(1 - A), (1 - Y)))\n",
    "    return loss\n",
    "\n",
    "def sigmoid(x):\n",
    "    return (1 / (1 + torch.exp(-x)))"
   ]
  },
  {
   "cell_type": "markdown",
   "metadata": {},
   "source": [
    "### Forward Propagation"
   ]
  },
  {
   "cell_type": "code",
   "execution_count": 15,
   "metadata": {},
   "outputs": [],
   "source": [
    "def forward(x, y):\n",
    "    out = x\n",
    "    for i in range(1, layers):\n",
    "        var_name = str(i)\n",
    "        out = torch.add(torch.matmul(W[var_name].t(), out), b[var_name])\n",
    "        Z[var_name] = out\n",
    "        out = sigmoid(out)\n",
    "        \n",
    "    loss = binary_cross_entropy(out, y)\n",
    "    return loss, out"
   ]
  },
  {
   "cell_type": "code",
   "execution_count": 16,
   "metadata": {},
   "outputs": [],
   "source": [
    "# loss, out = forward(images, labels)\n",
    "# print(out)\n",
    "# print(loss)"
   ]
  },
  {
   "cell_type": "markdown",
   "metadata": {},
   "source": [
    "### Backward Propagation"
   ]
  },
  {
   "cell_type": "code",
   "execution_count": 17,
   "metadata": {},
   "outputs": [],
   "source": [
    "def backward(A, Y, X):\n",
    "    # for last layer\n",
    "    Y = Y.view(1, Y.shape[0])\n",
    "    last_layer = str(layers - 1)\n",
    "    second_last_layer = str(layers - 2)\n",
    "    dz[last_layer] = A - Y\n",
    "    dw[last_layer] = (1 / batch_size) * torch.matmul(dz[last_layer], sigmoid(Z[second_last_layer]).t())\n",
    "    dw[last_layer] = dw[last_layer].t()\n",
    "    db[last_layer] = (1 / batch_size) * torch.sum(dz[last_layer], 1, keepdim = True)\n",
    "    da[second_last_layer] = torch.matmul(W[last_layer], dz[last_layer])\n",
    "    for i in range(layers - 2, 0, -1):\n",
    "        var_name = str(i)\n",
    "        prev_name = str(i - 1)\n",
    "        g_dash_z = sigmoid(Z[var_name]) * (1 - sigmoid(Z[var_name]))\n",
    "        dz[var_name] = da[var_name] * g_dash_z\n",
    "        if i == 1:\n",
    "            dw[var_name] = (1 / batch_size) * torch.matmul(dz[var_name], X.t())\n",
    "        else:\n",
    "            dw[var_name] = (1 / batch_size) * torch.matmul(dz[var_name], sigmoid(Z[prev_name]).t())\n",
    "        dw[var_name] = dw[var_name].t()\n",
    "        db[var_name] = (1 / batch_size) * torch.sum(dz[var_name], 1, keepdim = True)\n",
    "        da[prev_name] = torch.matmul(W[var_name], dz[var_name])"
   ]
  },
  {
   "cell_type": "markdown",
   "metadata": {},
   "source": [
    "### Weights Update"
   ]
  },
  {
   "cell_type": "code",
   "execution_count": 18,
   "metadata": {},
   "outputs": [],
   "source": [
    "def update_weights(learning_rate, momentum = 0):\n",
    "    for i in range(1, layers):\n",
    "        var_name = str(i)\n",
    "        assert(W[var_name].shape == dw[var_name].shape)\n",
    "        assert(b[var_name].shape == db[var_name].shape)\n",
    "        \n",
    "        # Calculate gradient with momentum\n",
    "        vdw[var_name] = momentum * vdw[var_name] + (1 - momentum) * dw[var_name]\n",
    "        vdb[var_name] = momentum * vdb[var_name] + (1 - momentum) * db[var_name]\n",
    "        \n",
    "        W[var_name] -= learning_rate * vdw[var_name]\n",
    "        b[var_name] -= learning_rate * vdb[var_name]"
   ]
  },
  {
   "cell_type": "markdown",
   "metadata": {},
   "source": [
    "### Training and Validation Loop"
   ]
  },
  {
   "cell_type": "code",
   "execution_count": 20,
   "metadata": {},
   "outputs": [
    {
     "name": "stdout",
     "output_type": "stream",
     "text": [
      "Epoch : [0 / 5] | TL : 0.7179510593414307 | TA : 49.12109375 | VL : 0.022806795313954353 | VA : 38.54166666666667\n",
      "Epoch : [1 / 5] | TL : 0.7032069563865662 | TA : 49.12109375 | VL : 0.02231796644628048 | VA : 37.5\n",
      "Epoch : [2 / 5] | TL : 0.6971240043640137 | TA : 49.12109375 | VL : 0.022132849941651028 | VA : 32.29166666666667\n",
      "Epoch : [3 / 5] | TL : 0.6946574449539185 | TA : 49.12109375 | VL : 0.021852990612387657 | VA : 34.375\n",
      "Epoch : [4 / 5] | TL : 0.6936638355255127 | TA : 49.12109375 | VL : 0.021704763794938724 | VA : 37.5\n"
     ]
    }
   ],
   "source": [
    "train_acc_list = list()\n",
    "train_loss_list = list()\n",
    "val_loss_list = list()\n",
    "val_acc_list = list()\n",
    "for j in range(num_epochs):\n",
    "    if torch.cuda.is_available():\n",
    "        for q in range(1, layers):\n",
    "            var_name = str(q)\n",
    "            W[var_name] = W[var_name].cuda()\n",
    "            b[var_name] = b[var_name].cuda()\n",
    "        \n",
    "        images, labels = images.cuda(), labels.cuda()\n",
    "    \n",
    "    loss, pred = forward(images, labels)\n",
    "    train_loss = loss.item()\n",
    "    train_loss_list.append(train_loss)\n",
    "    \n",
    "    backward(pred, labels, images)\n",
    "    \n",
    "    pred = (pred >= 0.5)\n",
    "    pred = pred.view(pred.shape[1])\n",
    "    mismatch = torch.sum(torch.eq(pred, labels.byte()))\n",
    "    train_acc = mismatch.item()\n",
    "    \n",
    "    update_weights(learning_rate = 0.01, momentum = 0.9)\n",
    "\n",
    "    train_acc /= (len(train_loader) * batch_size)\n",
    "    train_acc_list.append(train_acc * 100)\n",
    "    # print('Training accuracy at epoch ', i, ' = ', acc * 100)\n",
    "    \n",
    "    val_loss = 0\n",
    "    val_acc = 0\n",
    "    for batch_idx, (val_images, val_labels) in enumerate(test_loader):\n",
    "        if torch.cuda.is_available():\n",
    "            val_images = val_images.cuda()\n",
    "            val_labels = val_labels.cuda()\n",
    "            for q in range(1, layers):\n",
    "                var_name = str(q)\n",
    "                W[var_name] = W[var_name].cuda()\n",
    "                b[var_name] = b[var_name].cuda()\n",
    "            \n",
    "        val_labels = val_labels.float()\n",
    "        val_images = val_images.view(-1, val_images.shape[0]).float()\n",
    "        val_images /= 255\n",
    "\n",
    "        loss, pred = forward(val_images, val_labels)\n",
    "        val_loss += loss.item()\n",
    "        pred = (pred >= 0.5)\n",
    "\n",
    "        pred = pred.view(pred.shape[1])\n",
    "        mismatch = torch.sum(torch.eq(pred, val_labels.byte()))\n",
    "        val_acc += mismatch.item()\n",
    "\n",
    "    val_loss /= len(test_loader)\n",
    "    val_loss_list.append(val_loss)\n",
    "    # print('Validation Loss at epoch ', i, ' = ', val_loss)\n",
    "\n",
    "    val_acc /= (len(test_loader) * 32)\n",
    "    val_acc_list.append(val_acc * 100)\n",
    "    \n",
    "    print(f'Epoch : [{j} / {num_epochs}] | TL : {train_loss} | TA : {train_acc * 100} | VL : {val_loss} | VA : {val_acc * 100}')"
   ]
  },
  {
   "cell_type": "markdown",
   "metadata": {},
   "source": [
    "### Saving Loss and Accuracy lists to memory"
   ]
  },
  {
   "cell_type": "code",
   "execution_count": 28,
   "metadata": {},
   "outputs": [],
   "source": [
    "import csv\n",
    "\n",
    "csvfile = \"train_loss_list_deepnn.csv\"\n",
    "with open(csvfile, \"w\") as output:\n",
    "    writer = csv.writer(output, lineterminator='\\n')\n",
    "    for value in train_loss_list:\n",
    "        writer.writerow([value])\n",
    "\n",
    "csvfile = \"val_loss_list_deepnn.csv\"\n",
    "with open(csvfile, \"w\") as output:\n",
    "    writer = csv.writer(output, lineterminator='\\n')\n",
    "    for value in val_loss_list:\n",
    "        writer.writerow([value])\n",
    "\n",
    "csvfile = \"train_acc_list_deepnn.csv\"\n",
    "with open(csvfile, \"w\") as output:\n",
    "    writer = csv.writer(output, lineterminator='\\n')\n",
    "    for value in train_acc_list:\n",
    "        writer.writerow([value])\n",
    "\n",
    "csvfile = \"val_acc_list_deepnn.csv\"\n",
    "with open(csvfile, \"w\") as output:\n",
    "    writer = csv.writer(output, lineterminator='\\n')\n",
    "    for value in val_acc_list:\n",
    "        writer.writerow([value])"
   ]
  },
  {
   "cell_type": "markdown",
   "metadata": {},
   "source": [
    "### Plotting Losses and Accuracies"
   ]
  },
  {
   "cell_type": "code",
   "execution_count": 35,
   "metadata": {},
   "outputs": [
    {
     "data": {
      "image/png": "[encoded data removed]",
      "text/plain": [
       "<Figure size 432x288 with 1 Axes>"
      ]
     },
     "metadata": {
      "image/png": {
       "height": 250,
       "width": 370
      },
      "needs_background": "light"
     },
     "output_type": "display_data"
    }
   ],
   "source": [
    "import matplotlib.pyplot as plt\n",
    "import csv\n",
    "import numpy as np\n",
    "\n",
    "with open('train_loss_list_deepnn.csv', 'r') as f:\n",
    "    reader = csv.reader(f)\n",
    "    train_loss_list2 = list(reader)\n",
    "\n",
    "train_loss_list = list()\n",
    "for i in train_loss_list2:\n",
    "    for j in i:\n",
    "        train_loss_list.append(float(j))\n",
    "        \n",
    "with open('train_acc_list_deepnn.csv', 'r') as f:\n",
    "    reader = csv.reader(f)\n",
    "    train_acc_list2 = list(reader)\n",
    "\n",
    "train_acc_list = list()\n",
    "for i in train_acc_list2:\n",
    "    for j in i:\n",
    "        train_acc_list.append(float(j))\n",
    "        \n",
    "with open('val_loss_list_deepnn.csv', 'r') as f:\n",
    "    reader = csv.reader(f)\n",
    "    val_loss_list2 = list(reader)\n",
    "\n",
    "val_loss_list = list()\n",
    "for i in val_loss_list2:\n",
    "    for j in i:\n",
    "        val_loss_list.append(float(j))\n",
    "        \n",
    "with open('val_acc_list_deepnn.csv', 'r') as f:\n",
    "    reader = csv.reader(f)\n",
    "    val_acc_list2 = list(reader)\n",
    "\n",
    "val_acc_list = list()\n",
    "for i in val_acc_list2:\n",
    "    for j in i:\n",
    "        val_acc_list.append(float(j))\n",
    "\n",
    "iterations = np.arange(0, 50, 1)\n",
    "# plt.plot(iterations, train_loss_list, 'r')\n",
    "# plt.plot(iterations, train_acc_list, 'g')\n",
    "# plt.plot(iterations, val_loss_list, 'b')\n",
    "plt.plot(iterations, val_acc_list, 'y')\n",
    "plt.show()"
   ]
  },
  {
   "cell_type": "code",
   "execution_count": null,
   "metadata": {},
   "outputs": [],
   "source": []
  }
 ],
 "metadata": {
  "kernelspec": {
   "display_name": "Python 3",
   "language": "python",
   "name": "python3"
  },
  "language_info": {
   "codemirror_mode": {
    "name": "ipython",
    "version": 3
   },
   "file_extension": ".py",
   "mimetype": "text/x-python",
   "name": "python",
   "nbconvert_exporter": "python",
   "pygments_lexer": "ipython3",
   "version": "3.7.0"
  }
 },
 "nbformat": 4,
 "nbformat_minor": 2
}
