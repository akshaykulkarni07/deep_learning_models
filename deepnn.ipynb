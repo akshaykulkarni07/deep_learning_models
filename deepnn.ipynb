{
 "cells": [
  {
   "cell_type": "code",
   "execution_count": 1,
   "metadata": {},
   "outputs": [
    {
     "name": "stdout",
     "output_type": "stream",
     "text": [
      "0.4.1\n"
     ]
    }
   ],
   "source": [
    "%matplotlib inline\n",
    "%config InlineBackend.figure_format = 'retina'\n",
    "\n",
    "import matplotlib.pyplot as plt\n",
    "\n",
    "import torch\n",
    "print(torch.__version__)\n",
    "import torchvision\n",
    "from torchvision import datasets, transforms\n",
    "import torch.nn as nn\n",
    "\n",
    "from IPython.display import clear_output\n",
    "\n",
    "import helper"
   ]
  },
  {
   "cell_type": "markdown",
   "metadata": {},
   "source": [
    "# Batch Implementation and Binary Classification"
   ]
  },
  {
   "cell_type": "code",
   "execution_count": 3,
   "metadata": {},
   "outputs": [],
   "source": [
    "# data_dir = '/home/ivlabs/users/akshay/flowers/train'\n",
    "data_dir = '/Users/akshaykulkarni/flowers/train/'\n",
    "batch_size = 1024\n",
    "tf = transforms.Compose([transforms.Resize((255, 255)),\n",
    "                         transforms.ToTensor(),\n",
    "                        ])\n",
    "\n",
    "train_dataset = datasets.ImageFolder(data_dir, transform = tf)\n",
    "\n",
    "train_loader = torch.utils.data.DataLoader(train_dataset, batch_size = batch_size, shuffle = True, drop_last = True)\n",
    "\n",
    "# data_dir = '/home/ivlabs/users/akshay/flowers/test'\n",
    "data_dir = '/Users/akshaykulkarni/flowers/test/'\n",
    "\n",
    "test_dataset = datasets.ImageFolder(data_dir, transform = tf)\n",
    "\n",
    "test_loader = torch.utils.data.DataLoader(test_dataset, batch_size = 32, shuffle = True, drop_last = True)"
   ]
  },
  {
   "cell_type": "markdown",
   "metadata": {},
   "source": [
    "### Loading all the images in the single batch and flattening"
   ]
  },
  {
   "cell_type": "code",
   "execution_count": 4,
   "metadata": {},
   "outputs": [
    {
     "name": "stdout",
     "output_type": "stream",
     "text": [
      "torch.Size([1024, 3, 255, 255])\n",
      "torch.Size([195075, 1024])\n",
      "torch.Size([1024])\n"
     ]
    }
   ],
   "source": [
    "images, labels = next(iter(train_loader))\n",
    "print(images.shape)\n",
    "images = images.view(-1, images.shape[0]).float()\n",
    "print(images.shape)\n",
    "images /= 255\n",
    "labels = labels.float()\n",
    "print(labels.shape)"
   ]
  },
  {
   "cell_type": "markdown",
   "metadata": {},
   "source": [
    "### Initializing the parameters using no. of nodes and no. of layers"
   ]
  },
  {
   "cell_type": "code",
   "execution_count": 6,
   "metadata": {},
   "outputs": [],
   "source": [
    "# no. of layers\n",
    "layers = 3\n",
    "# no. of nodes in each layer in a list including input and output layers\n",
    "num_nodes = [images.shape[0], 512, 1]\n",
    "num_epochs = 2000\n",
    "\n",
    "# initializing weights according to no. of layers and no. of nodes\n",
    "assert(layers == len(num_nodes))\n",
    "W = {}\n",
    "b = {}\n",
    "Z = {}\n",
    "dw = {}\n",
    "db = {}\n",
    "da = {}\n",
    "dz = {}\n",
    "vdw = {}\n",
    "vdb = {}\n",
    "sdw = {}\n",
    "sdb = {}\n",
    "vdw_corr = {}\n",
    "vdb_corr = {}\n",
    "sdw_corr = {}\n",
    "sdb_corr = {}\n",
    "# Initialize Weights and Momentum \n",
    "for i in range(1, layers):\n",
    "    var_name = str(i)\n",
    "    \n",
    "    # Weight initialization\n",
    "    W[var_name] = torch.empty(num_nodes[i - 1], num_nodes[i])\n",
    "    # Xavier initialization of weights\n",
    "    nn.init.xavier_uniform_(W[var_name], gain=nn.init.calculate_gain('sigmoid'))\n",
    "    b[var_name] = torch.randn(num_nodes[i], 1)\n",
    "    \n",
    "    # Momentum gradient terms initialization\n",
    "    vdw[var_name] = torch.zeros(W[var_name].shape)\n",
    "    vdb[var_name] = torch.zeros(b[var_name].shape)\n",
    "    \n",
    "    # RMSprop terms initialization\n",
    "    sdw[var_name] = torch.zeros(W[var_name].shape)\n",
    "    sdb[var_name] = torch.zeros(b[var_name].shape)\n",
    "    \n",
    "    # Adam terms initialization\n",
    "    vdw_corr[var_name] = torch.zeros(W[var_name].shape)\n",
    "    vdb_corr[var_name] = torch.zeros(b[var_name].shape)\n",
    "    sdw_corr[var_name] = torch.zeros(W[var_name].shape)\n",
    "    sdb_corr[var_name] = torch.zeros(b[var_name].shape)"
   ]
  },
  {
   "cell_type": "markdown",
   "metadata": {},
   "source": [
    "### Loss and Activation Functions"
   ]
  },
  {
   "cell_type": "code",
   "execution_count": 9,
   "metadata": {},
   "outputs": [],
   "source": [
    "def binary_cross_entropy(A, Y):\n",
    "    loss = (-1 / batch_size) * (torch.matmul(torch.log(A), Y) + torch.matmul(torch.log(1 - A), (1 - Y)))\n",
    "    return loss\n",
    "\n",
    "def sigmoid(x):\n",
    "    return (1 / (1 + torch.exp(-x)))"
   ]
  },
  {
   "cell_type": "markdown",
   "metadata": {},
   "source": [
    "### Forward Propagation"
   ]
  },
  {
   "cell_type": "code",
   "execution_count": 10,
   "metadata": {},
   "outputs": [],
   "source": [
    "def forward(x, y):\n",
    "    out = x\n",
    "    for i in range(1, layers):\n",
    "        var_name = str(i)\n",
    "        out = torch.add(torch.matmul(W[var_name].t(), out), b[var_name])\n",
    "        Z[var_name] = out\n",
    "        out = sigmoid(out)\n",
    "        \n",
    "    loss = binary_cross_entropy(out, y)\n",
    "    return loss, out"
   ]
  },
  {
   "cell_type": "code",
   "execution_count": 11,
   "metadata": {},
   "outputs": [],
   "source": [
    "# loss, out = forward(images, labels)\n",
    "# print(out)\n",
    "# print(loss)"
   ]
  },
  {
   "cell_type": "markdown",
   "metadata": {},
   "source": [
    "### Backward Propagation"
   ]
  },
  {
   "cell_type": "code",
   "execution_count": 12,
   "metadata": {},
   "outputs": [],
   "source": [
    "def backward(A, Y, X):\n",
    "    # for last layer\n",
    "    Y = Y.view(1, Y.shape[0])\n",
    "    last_layer = str(layers - 1)\n",
    "    second_last_layer = str(layers - 2)\n",
    "    dz[last_layer] = A - Y\n",
    "    dw[last_layer] = (1 / batch_size) * torch.matmul(dz[last_layer], sigmoid(Z[second_last_layer]).t())\n",
    "    dw[last_layer] = dw[last_layer].t()\n",
    "    db[last_layer] = (1 / batch_size) * torch.sum(dz[last_layer], 1, keepdim = True)\n",
    "    da[second_last_layer] = torch.matmul(W[last_layer], dz[last_layer])\n",
    "    for i in range(layers - 2, 0, -1):\n",
    "        var_name = str(i)\n",
    "        prev_name = str(i - 1)\n",
    "        g_dash_z = sigmoid(Z[var_name]) * (1 - sigmoid(Z[var_name]))\n",
    "        dz[var_name] = da[var_name] * g_dash_z\n",
    "        if i == 1:\n",
    "            dw[var_name] = (1 / batch_size) * torch.matmul(dz[var_name], X.t())\n",
    "        else:\n",
    "            dw[var_name] = (1 / batch_size) * torch.matmul(dz[var_name], sigmoid(Z[prev_name]).t())\n",
    "        dw[var_name] = dw[var_name].t()\n",
    "        db[var_name] = (1 / batch_size) * torch.sum(dz[var_name], 1, keepdim = True)\n",
    "        da[prev_name] = torch.matmul(W[var_name], dz[var_name])"
   ]
  },
  {
   "cell_type": "markdown",
   "metadata": {},
   "source": [
    "### Weights Update"
   ]
  },
  {
   "cell_type": "code",
   "execution_count": 13,
   "metadata": {},
   "outputs": [],
   "source": [
    "def update_weights(algo, learning_rate = 1e-3, beta1 = 0, beta2 = 0, epsilon = 1e-8, t = 0):\n",
    "    for i in range(1, layers):\n",
    "        var_name = str(i)\n",
    "        assert(W[var_name].shape == dw[var_name].shape)\n",
    "        assert(b[var_name].shape == db[var_name].shape)\n",
    "        \n",
    "        # RMSProp\n",
    "        if algo == 'rmsprop':\n",
    "            sdw[var_name] = beta2 * sdw[var_name] + (1 - beta2) * (dw[var_name] ** 2)\n",
    "            sdb[var_name] = beta2 * sdb[var_name] + (1 - beta2) * (db[var_name] ** 2)\n",
    "            # Weights update\n",
    "            W[var_name] -= learning_rate * torch.div(dw[var_name], ((sdw[var_name] ** 0.5) + epsilon))\n",
    "            b[var_name] -= learning_rate * torch.div(db[var_name], ((sdb[var_name] ** 0.5) + epsilon))\n",
    "            \n",
    "        elif algo == 'adam':\n",
    "            sdw[var_name] = beta2 * sdw[var_name] + (1 - beta2) * (dw[var_name] ** 2)\n",
    "            sdb[var_name] = beta2 * sdb[var_name] + (1 - beta2) * (db[var_name] ** 2)\n",
    "            vdw[var_name] = beta1 * vdw[var_name] + (1 - beta1) * dw[var_name]\n",
    "            vdb[var_name] = beta1 * vdb[var_name] + (1 - beta1) * db[var_name]\n",
    "            # bias correction\n",
    "            vdw_corr[var_name] = vdw[var_name] / (1 - beta1 ** t)\n",
    "            vdb_corr[var_name] = vdb[var_name] / (1 - beta1 ** t)\n",
    "            sdw_corr[var_name] = sdw[var_name] / (1 - beta2 ** t)\n",
    "            sdb_corr[var_name] = sdb[var_name] / (1 - beta2 ** t)\n",
    "            # Weights update\n",
    "            W[var_name] -= learning_rate * torch.div(vdw_corr[var_name], ((sdw_corr[var_name] ** 0.5) + epsilon))\n",
    "            b[var_name] -= learning_rate * torch.div(vdb_corr[var_name], ((sdb_corr[var_name] ** 0.5) + epsilon))\n",
    "            \n",
    "        # Gradient Descent with Momentum\n",
    "        else:\n",
    "            vdw[var_name] = beta1 * vdw[var_name] + (1 - beta1) * dw[var_name]\n",
    "            vdb[var_name] = beta1 * vdb[var_name] + (1 - beta1) * db[var_name] \n",
    "            # Weights update\n",
    "            W[var_name] -= learning_rate * vdw[var_name]\n",
    "            b[var_name] -= learning_rate * vdb[var_name]"
   ]
  },
  {
   "cell_type": "markdown",
   "metadata": {},
   "source": [
    "### Training and Validation Loop"
   ]
  },
  {
   "cell_type": "code",
   "execution_count": 14,
   "metadata": {},
   "outputs": [
    {
     "name": "stdout",
     "output_type": "stream",
     "text": [
      "Epoch : [2 / 2000] | TL : 1.0280166864395142 | TA : 50.68359375 | VL : 0.025498089691003162 | VA : 62.5\n"
     ]
    },
    {
     "ename": "KeyboardInterrupt",
     "evalue": "",
     "output_type": "error",
     "traceback": [
      "\u001b[0;31m---------------------------------------------------------------------------\u001b[0m",
      "\u001b[0;31mKeyboardInterrupt\u001b[0m                         Traceback (most recent call last)",
      "\u001b[0;32m<ipython-input-14-aeb90d18b28d>\u001b[0m in \u001b[0;36m<module>\u001b[0;34m()\u001b[0m\n\u001b[1;32m     27\u001b[0m     \u001b[0mtrain_acc\u001b[0m \u001b[0;34m=\u001b[0m \u001b[0mmismatch\u001b[0m\u001b[0;34m.\u001b[0m\u001b[0mitem\u001b[0m\u001b[0;34m(\u001b[0m\u001b[0;34m)\u001b[0m\u001b[0;34m\u001b[0m\u001b[0m\n\u001b[1;32m     28\u001b[0m \u001b[0;34m\u001b[0m\u001b[0m\n\u001b[0;32m---> 29\u001b[0;31m     \u001b[0mupdate_weights\u001b[0m\u001b[0;34m(\u001b[0m\u001b[0malgo\u001b[0m \u001b[0;34m=\u001b[0m \u001b[0;34m'adam'\u001b[0m\u001b[0;34m,\u001b[0m \u001b[0mlearning_rate\u001b[0m \u001b[0;34m=\u001b[0m \u001b[0;36m1e-5\u001b[0m\u001b[0;34m,\u001b[0m \u001b[0mbeta2\u001b[0m \u001b[0;34m=\u001b[0m \u001b[0;36m0.999\u001b[0m\u001b[0;34m,\u001b[0m \u001b[0mepsilon\u001b[0m \u001b[0;34m=\u001b[0m \u001b[0;36m1e-8\u001b[0m\u001b[0;34m,\u001b[0m \u001b[0mt\u001b[0m \u001b[0;34m=\u001b[0m \u001b[0mj\u001b[0m\u001b[0;34m)\u001b[0m\u001b[0;34m\u001b[0m\u001b[0m\n\u001b[0m\u001b[1;32m     30\u001b[0m \u001b[0;34m\u001b[0m\u001b[0m\n\u001b[1;32m     31\u001b[0m     \u001b[0mtrain_acc\u001b[0m \u001b[0;34m/=\u001b[0m \u001b[0;34m(\u001b[0m\u001b[0mlen\u001b[0m\u001b[0;34m(\u001b[0m\u001b[0mtrain_loader\u001b[0m\u001b[0;34m)\u001b[0m \u001b[0;34m*\u001b[0m \u001b[0mbatch_size\u001b[0m\u001b[0;34m)\u001b[0m\u001b[0;34m\u001b[0m\u001b[0m\n",
      "\u001b[0;32m<ipython-input-13-3bed3f905e5e>\u001b[0m in \u001b[0;36mupdate_weights\u001b[0;34m(algo, learning_rate, beta1, beta2, epsilon, t)\u001b[0m\n\u001b[1;32m     14\u001b[0m \u001b[0;34m\u001b[0m\u001b[0m\n\u001b[1;32m     15\u001b[0m         \u001b[0;32melif\u001b[0m \u001b[0malgo\u001b[0m \u001b[0;34m==\u001b[0m \u001b[0;34m'adam'\u001b[0m\u001b[0;34m:\u001b[0m\u001b[0;34m\u001b[0m\u001b[0m\n\u001b[0;32m---> 16\u001b[0;31m             \u001b[0msdw\u001b[0m\u001b[0;34m[\u001b[0m\u001b[0mvar_name\u001b[0m\u001b[0;34m]\u001b[0m \u001b[0;34m=\u001b[0m \u001b[0mbeta2\u001b[0m \u001b[0;34m*\u001b[0m \u001b[0msdw\u001b[0m\u001b[0;34m[\u001b[0m\u001b[0mvar_name\u001b[0m\u001b[0;34m]\u001b[0m \u001b[0;34m+\u001b[0m \u001b[0;34m(\u001b[0m\u001b[0;36m1\u001b[0m \u001b[0;34m-\u001b[0m \u001b[0mbeta2\u001b[0m\u001b[0;34m)\u001b[0m \u001b[0;34m*\u001b[0m \u001b[0;34m(\u001b[0m\u001b[0mdw\u001b[0m\u001b[0;34m[\u001b[0m\u001b[0mvar_name\u001b[0m\u001b[0;34m]\u001b[0m \u001b[0;34m**\u001b[0m \u001b[0;36m2\u001b[0m\u001b[0;34m)\u001b[0m\u001b[0;34m\u001b[0m\u001b[0m\n\u001b[0m\u001b[1;32m     17\u001b[0m             \u001b[0msdb\u001b[0m\u001b[0;34m[\u001b[0m\u001b[0mvar_name\u001b[0m\u001b[0;34m]\u001b[0m \u001b[0;34m=\u001b[0m \u001b[0mbeta2\u001b[0m \u001b[0;34m*\u001b[0m \u001b[0msdb\u001b[0m\u001b[0;34m[\u001b[0m\u001b[0mvar_name\u001b[0m\u001b[0;34m]\u001b[0m \u001b[0;34m+\u001b[0m \u001b[0;34m(\u001b[0m\u001b[0;36m1\u001b[0m \u001b[0;34m-\u001b[0m \u001b[0mbeta2\u001b[0m\u001b[0;34m)\u001b[0m \u001b[0;34m*\u001b[0m \u001b[0;34m(\u001b[0m\u001b[0mdb\u001b[0m\u001b[0;34m[\u001b[0m\u001b[0mvar_name\u001b[0m\u001b[0;34m]\u001b[0m \u001b[0;34m**\u001b[0m \u001b[0;36m2\u001b[0m\u001b[0;34m)\u001b[0m\u001b[0;34m\u001b[0m\u001b[0m\n\u001b[1;32m     18\u001b[0m             \u001b[0mvdw\u001b[0m\u001b[0;34m[\u001b[0m\u001b[0mvar_name\u001b[0m\u001b[0;34m]\u001b[0m \u001b[0;34m=\u001b[0m \u001b[0mbeta1\u001b[0m \u001b[0;34m*\u001b[0m \u001b[0mvdw\u001b[0m\u001b[0;34m[\u001b[0m\u001b[0mvar_name\u001b[0m\u001b[0;34m]\u001b[0m \u001b[0;34m+\u001b[0m \u001b[0;34m(\u001b[0m\u001b[0;36m1\u001b[0m \u001b[0;34m-\u001b[0m \u001b[0mbeta1\u001b[0m\u001b[0;34m)\u001b[0m \u001b[0;34m*\u001b[0m \u001b[0mdw\u001b[0m\u001b[0;34m[\u001b[0m\u001b[0mvar_name\u001b[0m\u001b[0;34m]\u001b[0m\u001b[0;34m\u001b[0m\u001b[0m\n",
      "\u001b[0;31mKeyboardInterrupt\u001b[0m: "
     ]
    }
   ],
   "source": [
    "train_acc_list = list()\n",
    "train_loss_list = list()\n",
    "val_loss_list = list()\n",
    "val_acc_list = list()\n",
    "for j in range(1, num_epochs + 1):\n",
    "    if torch.cuda.is_available():\n",
    "        for q in range(1, layers):\n",
    "            var_name = str(q)\n",
    "            W[var_name] = W[var_name].cuda()\n",
    "            b[var_name] = b[var_name].cuda()\n",
    "            vdw[var_name] = vdw[var_name].cuda()\n",
    "            vdb[var_name] = vdb[var_name].cuda()\n",
    "            sdw[var_name] = sdw[var_name].cuda()\n",
    "            sdb[var_name] = sdb[var_name].cuda()\n",
    "        \n",
    "        images, labels = images.cuda(), labels.cuda()\n",
    "    \n",
    "    loss, pred = forward(images, labels)\n",
    "    train_loss = loss.item()\n",
    "    train_loss_list.append(train_loss)\n",
    "    \n",
    "    backward(pred, labels, images)\n",
    "    \n",
    "    pred = (pred >= 0.5)\n",
    "    pred = pred.view(pred.shape[1])\n",
    "    mismatch = torch.sum(torch.eq(pred, labels.byte()))\n",
    "    train_acc = mismatch.item()\n",
    "    \n",
    "    update_weights(algo = 'adam', learning_rate = 1e-5, beta2 = 0.999, epsilon = 1e-8, t = j)\n",
    "\n",
    "    train_acc /= (len(train_loader) * batch_size)\n",
    "    train_acc_list.append(train_acc * 100)\n",
    "    # print('Training accuracy at epoch ', i, ' = ', acc * 100)\n",
    "    \n",
    "    val_loss = 0\n",
    "    val_acc = 0\n",
    "    for batch_idx, (val_images, val_labels) in enumerate(test_loader):\n",
    "        if torch.cuda.is_available():\n",
    "            val_images = val_images.cuda()\n",
    "            val_labels = val_labels.cuda()\n",
    "            for q in range(1, layers):\n",
    "                var_name = str(q)\n",
    "                W[var_name] = W[var_name].cuda()\n",
    "                b[var_name] = b[var_name].cuda()\n",
    "            \n",
    "        val_labels = val_labels.float()\n",
    "        val_images = val_images.view(-1, val_images.shape[0]).float()\n",
    "        val_images /= 255\n",
    "\n",
    "        loss, pred = forward(val_images, val_labels)\n",
    "        val_loss += loss.item()\n",
    "        pred = (pred >= 0.5)\n",
    "\n",
    "        pred = pred.view(pred.shape[1])\n",
    "        mismatch = torch.sum(torch.eq(pred, val_labels.byte()))\n",
    "        val_acc += mismatch.item()\n",
    "\n",
    "    val_loss /= len(test_loader)\n",
    "    val_loss_list.append(val_loss)\n",
    "    # print('Validation Loss at epoch ', i, ' = ', val_loss)\n",
    "\n",
    "    val_acc /= (len(test_loader) * 32)\n",
    "    val_acc_list.append(val_acc * 100)\n",
    "    \n",
    "    clear_output(wait = True)\n",
    "    print(f'Epoch : [{j} / {num_epochs}] | TL : {train_loss} | TA : {train_acc * 100} | VL : {val_loss} | VA : {val_acc * 100}')"
   ]
  },
  {
   "cell_type": "markdown",
   "metadata": {},
   "source": [
    "### Saving Loss and Accuracy lists to memory"
   ]
  },
  {
   "cell_type": "code",
   "execution_count": 36,
   "metadata": {},
   "outputs": [],
   "source": [
    "import csv\n",
    "\n",
    "csvfile = \"train_loss_list_deepnn.csv\"\n",
    "with open(csvfile, \"w\") as output:\n",
    "    writer = csv.writer(output, lineterminator='\\n')\n",
    "    for value in train_loss_list:\n",
    "        writer.writerow([value])\n",
    "\n",
    "csvfile = \"val_loss_list_deepnn.csv\"\n",
    "with open(csvfile, \"w\") as output:\n",
    "    writer = csv.writer(output, lineterminator='\\n')\n",
    "    for value in val_loss_list:\n",
    "        writer.writerow([value])\n",
    "\n",
    "csvfile = \"train_acc_list_deepnn.csv\"\n",
    "with open(csvfile, \"w\") as output:\n",
    "    writer = csv.writer(output, lineterminator='\\n')\n",
    "    for value in train_acc_list:\n",
    "        writer.writerow([value])\n",
    "\n",
    "csvfile = \"val_acc_list_deepnn.csv\"\n",
    "with open(csvfile, \"w\") as output:\n",
    "    writer = csv.writer(output, lineterminator='\\n')\n",
    "    for value in val_acc_list:\n",
    "        writer.writerow([value])"
   ]
  },
  {
   "cell_type": "markdown",
   "metadata": {},
   "source": [
    "### Plotting Losses and Accuracies"
   ]
  },
  {
   "cell_type": "code",
   "execution_count": 40,
   "metadata": {},
   "outputs": [
    {
     "data": {
      "image/png": "[encoded data removed]",
      "text/plain": [
       "<Figure size 432x288 with 1 Axes>"
      ]
     },
     "metadata": {
      "image/png": {
       "height": 250,
       "width": 373
      },
      "needs_background": "light"
     },
     "output_type": "display_data"
    }
   ],
   "source": [
    "import matplotlib.pyplot as plt\n",
    "import csv\n",
    "import numpy as np\n",
    "\n",
    "with open('train_loss_list_deepnn.csv', 'r') as f:\n",
    "    reader = csv.reader(f)\n",
    "    train_loss_list2 = list(reader)\n",
    "\n",
    "train_loss_list = list()\n",
    "for i in train_loss_list2:\n",
    "    for j in i:\n",
    "        train_loss_list.append(float(j))\n",
    "        \n",
    "with open('train_acc_list_deepnn.csv', 'r') as f:\n",
    "    reader = csv.reader(f)\n",
    "    train_acc_list2 = list(reader)\n",
    "\n",
    "train_acc_list = list()\n",
    "for i in train_acc_list2:\n",
    "    for j in i:\n",
    "        train_acc_list.append(float(j))\n",
    "        \n",
    "with open('val_loss_list_deepnn.csv', 'r') as f:\n",
    "    reader = csv.reader(f)\n",
    "    val_loss_list2 = list(reader)\n",
    "\n",
    "val_loss_list = list()\n",
    "for i in val_loss_list2:\n",
    "    for j in i:\n",
    "        val_loss_list.append(float(j))\n",
    "        \n",
    "with open('val_acc_list_deepnn.csv', 'r') as f:\n",
    "    reader = csv.reader(f)\n",
    "    val_acc_list2 = list(reader)\n",
    "\n",
    "val_acc_list = list()\n",
    "for i in val_acc_list2:\n",
    "    for j in i:\n",
    "        val_acc_list.append(float(j))\n",
    "\n",
    "iterations = np.arange(0, 2000, 1)\n",
    "plt.plot(iterations, train_loss_list, 'r')\n",
    "# plt.plot(iterations, train_acc_list, 'g')\n",
    "# plt.plot(iterations, val_loss_list, 'b')\n",
    "# plt.plot(iterations, val_acc_list, 'y')\n",
    "plt.show()"
   ]
  },
  {
   "cell_type": "markdown",
   "metadata": {},
   "source": [
    "# Mini-Batch Implementations"
   ]
  },
  {
   "cell_type": "code",
   "execution_count": 3,
   "metadata": {},
   "outputs": [],
   "source": [
    "data_dir = '/home/ivlabs/users/akshay/flowers/train'\n",
    "batch_size = 32\n",
    "tf = transforms.Compose([transforms.Resize((255, 255)),\n",
    "                         transforms.ToTensor(),\n",
    "                        ])\n",
    "\n",
    "train_dataset = datasets.ImageFolder(data_dir, transform = tf)\n",
    "\n",
    "train_loader = torch.utils.data.DataLoader(train_dataset, batch_size = batch_size, shuffle = True, drop_last = True)\n",
    "\n",
    "data_dir = '/home/ivlabs/users/akshay/flowers/test'\n",
    "\n",
    "test_dataset = datasets.ImageFolder(data_dir, transform = tf)\n",
    "\n",
    "test_loader = torch.utils.data.DataLoader(test_dataset, batch_size = batch_size, shuffle = True, drop_last = True)"
   ]
  },
  {
   "cell_type": "markdown",
   "metadata": {},
   "source": [
    "### Initialization of weights, biases and other required variables"
   ]
  },
  {
   "cell_type": "code",
   "execution_count": 15,
   "metadata": {},
   "outputs": [],
   "source": [
    "# no. of layers\n",
    "layers = 3\n",
    "# no. of nodes in each layer in a list including input and output layers\n",
    "num_nodes = [255 * 255 * 3, 512, 1]\n",
    "num_epochs = 2000\n",
    "\n",
    "# initializing weights according to no. of layers and no. of nodes\n",
    "assert(layers == len(num_nodes))\n",
    "W = {}\n",
    "b = {}\n",
    "Z = {}\n",
    "dw = {}\n",
    "db = {}\n",
    "da = {}\n",
    "dz = {}\n",
    "vdw = {}\n",
    "vdb = {}\n",
    "sdw = {}\n",
    "sdb = {}\n",
    "# Initialize Weights and Momentum \n",
    "for i in range(1, layers):\n",
    "    var_name = str(i)\n",
    "    \n",
    "    # Weight initialization\n",
    "    W[var_name] = torch.empty(num_nodes[i - 1], num_nodes[i])\n",
    "    # Xavier initialization of weights\n",
    "    nn.init.xavier_uniform_(W[var_name], gain=nn.init.calculate_gain('sigmoid'))\n",
    "    b[var_name] = torch.randn(num_nodes[i], 1)\n",
    "    \n",
    "    # Momentum gradient terms initialization\n",
    "    vdw[var_name] = torch.zeros(W[var_name].shape)\n",
    "    vdb[var_name] = torch.zeros(b[var_name].shape)\n",
    "    \n",
    "    sdw[var_name] = torch.zeros(W[var_name].shape)\n",
    "    sdb[var_name] = torch.zeros(b[var_name].shape)"
   ]
  },
  {
   "cell_type": "markdown",
   "metadata": {},
   "source": [
    "### Loss and Activation Functions, Forward and Back Propagation, and Weights Update"
   ]
  },
  {
   "cell_type": "code",
   "execution_count": 16,
   "metadata": {},
   "outputs": [],
   "source": [
    "def binary_cross_entropy(A, Y):\n",
    "    loss = (-1 / batch_size) * (torch.matmul(torch.log(A), Y) + torch.matmul(torch.log(1 - A), (1 - Y)))\n",
    "    return loss\n",
    "\n",
    "def sigmoid(x):\n",
    "    return (1 / (1 + torch.exp(-x)))\n",
    "\n",
    "def forward(x, y):\n",
    "    out = x\n",
    "    for i in range(1, layers):\n",
    "        var_name = str(i)\n",
    "        out = torch.add(torch.matmul(W[var_name].t(), out), b[var_name])\n",
    "        Z[var_name] = out\n",
    "        out = sigmoid(out)\n",
    "        \n",
    "    loss = binary_cross_entropy(out, y)\n",
    "    return loss, out\n",
    "\n",
    "def backward(A, Y, X):\n",
    "    # for last layer\n",
    "    Y = Y.view(1, Y.shape[0])\n",
    "    last_layer = str(layers - 1)\n",
    "    second_last_layer = str(layers - 2)\n",
    "    dz[last_layer] = A - Y\n",
    "    dw[last_layer] = (1 / batch_size) * torch.matmul(dz[last_layer], sigmoid(Z[second_last_layer]).t())\n",
    "    dw[last_layer] = dw[last_layer].t()\n",
    "    db[last_layer] = (1 / batch_size) * torch.sum(dz[last_layer], 1, keepdim = True)\n",
    "    da[second_last_layer] = torch.matmul(W[last_layer], dz[last_layer])\n",
    "    for i in range(layers - 2, 0, -1):\n",
    "        var_name = str(i)\n",
    "        prev_name = str(i - 1)\n",
    "        g_dash_z = sigmoid(Z[var_name]) * (1 - sigmoid(Z[var_name]))\n",
    "        dz[var_name] = da[var_name] * g_dash_z\n",
    "        if i == 1:\n",
    "            dw[var_name] = (1 / batch_size) * torch.matmul(dz[var_name], X.t())\n",
    "        else:\n",
    "            dw[var_name] = (1 / batch_size) * torch.matmul(dz[var_name], sigmoid(Z[prev_name]).t())\n",
    "        dw[var_name] = dw[var_name].t()\n",
    "        db[var_name] = (1 / batch_size) * torch.sum(dz[var_name], 1, keepdim = True)\n",
    "        da[prev_name] = torch.matmul(W[var_name], dz[var_name])\n",
    "        \n",
    "def update_weights(algo, learning_rate = 1e-3, beta1 = 0, beta2 = 0, epsilon = 1e-8):\n",
    "    for i in range(1, layers):\n",
    "        var_name = str(i)\n",
    "        assert(W[var_name].shape == dw[var_name].shape)\n",
    "        assert(b[var_name].shape == db[var_name].shape)\n",
    "        \n",
    "        # RMSProp\n",
    "        if algo == 'rmsprop':\n",
    "            sdw[var_name] = beta2 * sdw[var_name] + (1 - beta2) * (dw[var_name] ** 2)\n",
    "            sdb[var_name] = beta2 * sdb[var_name] + (1 - beta2) * (db[var_name] ** 2)\n",
    "            W[var_name] -= learning_rate * torch.div(dw[var_name], ((sdw[var_name] ** 0.5) + epsilon))\n",
    "            b[var_name] -= learning_rate * torch.div(db[var_name], ((sdb[var_name] ** 0.5) + epsilon))\n",
    "        # Gradient Descent with Momentum\n",
    "        else:\n",
    "            vdw[var_name] = beta1 * vdw[var_name] + (1 - beta1) * dw[var_name]\n",
    "            vdb[var_name] = beta1 * vdb[var_name] + (1 - beta1) * db[var_name] \n",
    "            W[var_name] -= learning_rate * vdw[var_name]\n",
    "            b[var_name] -= learning_rate * vdb[var_name]"
   ]
  },
  {
   "cell_type": "markdown",
   "metadata": {},
   "source": [
    "### Training and Validation Loop"
   ]
  },
  {
   "cell_type": "code",
   "execution_count": 17,
   "metadata": {},
   "outputs": [
    {
     "name": "stdout",
     "output_type": "stream",
     "text": [
      "Epoch : [24 / 2000] | TL : 0.6930381295292877 | TA : 50.43604651162791 | VL : 0.6910189191500345 | VA : 61.458333333333336\n"
     ]
    },
    {
     "ename": "KeyboardInterrupt",
     "evalue": "",
     "output_type": "error",
     "traceback": [
      "\u001b[0;31m---------------------------------------------------------------------------\u001b[0m",
      "\u001b[0;31mKeyboardInterrupt\u001b[0m                         Traceback (most recent call last)",
      "\u001b[0;32m<ipython-input-17-7f04a2908187>\u001b[0m in \u001b[0;36m<module>\u001b[0;34m\u001b[0m\n\u001b[1;32m     17\u001b[0m     \u001b[0mtrain_loss\u001b[0m \u001b[0;34m=\u001b[0m \u001b[0;36m0\u001b[0m\u001b[0;34m\u001b[0m\u001b[0;34m\u001b[0m\u001b[0m\n\u001b[1;32m     18\u001b[0m     \u001b[0mtrain_acc\u001b[0m \u001b[0;34m=\u001b[0m \u001b[0;36m0\u001b[0m\u001b[0;34m\u001b[0m\u001b[0;34m\u001b[0m\u001b[0m\n\u001b[0;32m---> 19\u001b[0;31m     \u001b[0;32mfor\u001b[0m \u001b[0mbatch_idx\u001b[0m\u001b[0;34m,\u001b[0m \u001b[0;34m(\u001b[0m\u001b[0mimages\u001b[0m\u001b[0;34m,\u001b[0m \u001b[0mlabels\u001b[0m\u001b[0;34m)\u001b[0m \u001b[0;32min\u001b[0m \u001b[0menumerate\u001b[0m\u001b[0;34m(\u001b[0m\u001b[0mtrain_loader\u001b[0m\u001b[0;34m)\u001b[0m\u001b[0;34m:\u001b[0m\u001b[0;34m\u001b[0m\u001b[0;34m\u001b[0m\u001b[0m\n\u001b[0m\u001b[1;32m     20\u001b[0m         \u001b[0;32mif\u001b[0m \u001b[0mtorch\u001b[0m\u001b[0;34m.\u001b[0m\u001b[0mcuda\u001b[0m\u001b[0;34m.\u001b[0m\u001b[0mis_available\u001b[0m\u001b[0;34m(\u001b[0m\u001b[0;34m)\u001b[0m\u001b[0;34m:\u001b[0m\u001b[0;34m\u001b[0m\u001b[0;34m\u001b[0m\u001b[0m\n\u001b[1;32m     21\u001b[0m             \u001b[0mimages\u001b[0m\u001b[0;34m,\u001b[0m \u001b[0mlabels\u001b[0m \u001b[0;34m=\u001b[0m \u001b[0mimages\u001b[0m\u001b[0;34m.\u001b[0m\u001b[0mcuda\u001b[0m\u001b[0;34m(\u001b[0m\u001b[0;34m)\u001b[0m\u001b[0;34m,\u001b[0m \u001b[0mlabels\u001b[0m\u001b[0;34m.\u001b[0m\u001b[0mcuda\u001b[0m\u001b[0;34m(\u001b[0m\u001b[0;34m)\u001b[0m\u001b[0;34m\u001b[0m\u001b[0;34m\u001b[0m\u001b[0m\n",
      "\u001b[0;32m~/anaconda3/envs/akshay/lib/python3.7/site-packages/torch/utils/data/dataloader.py\u001b[0m in \u001b[0;36m__next__\u001b[0;34m(self)\u001b[0m\n\u001b[1;32m    613\u001b[0m         \u001b[0;32mif\u001b[0m \u001b[0mself\u001b[0m\u001b[0;34m.\u001b[0m\u001b[0mnum_workers\u001b[0m \u001b[0;34m==\u001b[0m \u001b[0;36m0\u001b[0m\u001b[0;34m:\u001b[0m  \u001b[0;31m# same-process loading\u001b[0m\u001b[0;34m\u001b[0m\u001b[0;34m\u001b[0m\u001b[0m\n\u001b[1;32m    614\u001b[0m             \u001b[0mindices\u001b[0m \u001b[0;34m=\u001b[0m \u001b[0mnext\u001b[0m\u001b[0;34m(\u001b[0m\u001b[0mself\u001b[0m\u001b[0;34m.\u001b[0m\u001b[0msample_iter\u001b[0m\u001b[0;34m)\u001b[0m  \u001b[0;31m# may raise StopIteration\u001b[0m\u001b[0;34m\u001b[0m\u001b[0;34m\u001b[0m\u001b[0m\n\u001b[0;32m--> 615\u001b[0;31m             \u001b[0mbatch\u001b[0m \u001b[0;34m=\u001b[0m \u001b[0mself\u001b[0m\u001b[0;34m.\u001b[0m\u001b[0mcollate_fn\u001b[0m\u001b[0;34m(\u001b[0m\u001b[0;34m[\u001b[0m\u001b[0mself\u001b[0m\u001b[0;34m.\u001b[0m\u001b[0mdataset\u001b[0m\u001b[0;34m[\u001b[0m\u001b[0mi\u001b[0m\u001b[0;34m]\u001b[0m \u001b[0;32mfor\u001b[0m \u001b[0mi\u001b[0m \u001b[0;32min\u001b[0m \u001b[0mindices\u001b[0m\u001b[0;34m]\u001b[0m\u001b[0;34m)\u001b[0m\u001b[0;34m\u001b[0m\u001b[0;34m\u001b[0m\u001b[0m\n\u001b[0m\u001b[1;32m    616\u001b[0m             \u001b[0;32mif\u001b[0m \u001b[0mself\u001b[0m\u001b[0;34m.\u001b[0m\u001b[0mpin_memory\u001b[0m\u001b[0;34m:\u001b[0m\u001b[0;34m\u001b[0m\u001b[0;34m\u001b[0m\u001b[0m\n\u001b[1;32m    617\u001b[0m                 \u001b[0mbatch\u001b[0m \u001b[0;34m=\u001b[0m \u001b[0mpin_memory_batch\u001b[0m\u001b[0;34m(\u001b[0m\u001b[0mbatch\u001b[0m\u001b[0;34m)\u001b[0m\u001b[0;34m\u001b[0m\u001b[0;34m\u001b[0m\u001b[0m\n",
      "\u001b[0;32m~/anaconda3/envs/akshay/lib/python3.7/site-packages/torch/utils/data/dataloader.py\u001b[0m in \u001b[0;36m<listcomp>\u001b[0;34m(.0)\u001b[0m\n\u001b[1;32m    613\u001b[0m         \u001b[0;32mif\u001b[0m \u001b[0mself\u001b[0m\u001b[0;34m.\u001b[0m\u001b[0mnum_workers\u001b[0m \u001b[0;34m==\u001b[0m \u001b[0;36m0\u001b[0m\u001b[0;34m:\u001b[0m  \u001b[0;31m# same-process loading\u001b[0m\u001b[0;34m\u001b[0m\u001b[0;34m\u001b[0m\u001b[0m\n\u001b[1;32m    614\u001b[0m             \u001b[0mindices\u001b[0m \u001b[0;34m=\u001b[0m \u001b[0mnext\u001b[0m\u001b[0;34m(\u001b[0m\u001b[0mself\u001b[0m\u001b[0;34m.\u001b[0m\u001b[0msample_iter\u001b[0m\u001b[0;34m)\u001b[0m  \u001b[0;31m# may raise StopIteration\u001b[0m\u001b[0;34m\u001b[0m\u001b[0;34m\u001b[0m\u001b[0m\n\u001b[0;32m--> 615\u001b[0;31m             \u001b[0mbatch\u001b[0m \u001b[0;34m=\u001b[0m \u001b[0mself\u001b[0m\u001b[0;34m.\u001b[0m\u001b[0mcollate_fn\u001b[0m\u001b[0;34m(\u001b[0m\u001b[0;34m[\u001b[0m\u001b[0mself\u001b[0m\u001b[0;34m.\u001b[0m\u001b[0mdataset\u001b[0m\u001b[0;34m[\u001b[0m\u001b[0mi\u001b[0m\u001b[0;34m]\u001b[0m \u001b[0;32mfor\u001b[0m \u001b[0mi\u001b[0m \u001b[0;32min\u001b[0m \u001b[0mindices\u001b[0m\u001b[0;34m]\u001b[0m\u001b[0;34m)\u001b[0m\u001b[0;34m\u001b[0m\u001b[0;34m\u001b[0m\u001b[0m\n\u001b[0m\u001b[1;32m    616\u001b[0m             \u001b[0;32mif\u001b[0m \u001b[0mself\u001b[0m\u001b[0;34m.\u001b[0m\u001b[0mpin_memory\u001b[0m\u001b[0;34m:\u001b[0m\u001b[0;34m\u001b[0m\u001b[0;34m\u001b[0m\u001b[0m\n\u001b[1;32m    617\u001b[0m                 \u001b[0mbatch\u001b[0m \u001b[0;34m=\u001b[0m \u001b[0mpin_memory_batch\u001b[0m\u001b[0;34m(\u001b[0m\u001b[0mbatch\u001b[0m\u001b[0;34m)\u001b[0m\u001b[0;34m\u001b[0m\u001b[0;34m\u001b[0m\u001b[0m\n",
      "\u001b[0;32m~/anaconda3/envs/akshay/lib/python3.7/site-packages/torchvision/datasets/folder.py\u001b[0m in \u001b[0;36m__getitem__\u001b[0;34m(self, index)\u001b[0m\n\u001b[1;32m     99\u001b[0m         \"\"\"\n\u001b[1;32m    100\u001b[0m         \u001b[0mpath\u001b[0m\u001b[0;34m,\u001b[0m \u001b[0mtarget\u001b[0m \u001b[0;34m=\u001b[0m \u001b[0mself\u001b[0m\u001b[0;34m.\u001b[0m\u001b[0msamples\u001b[0m\u001b[0;34m[\u001b[0m\u001b[0mindex\u001b[0m\u001b[0;34m]\u001b[0m\u001b[0;34m\u001b[0m\u001b[0;34m\u001b[0m\u001b[0m\n\u001b[0;32m--> 101\u001b[0;31m         \u001b[0msample\u001b[0m \u001b[0;34m=\u001b[0m \u001b[0mself\u001b[0m\u001b[0;34m.\u001b[0m\u001b[0mloader\u001b[0m\u001b[0;34m(\u001b[0m\u001b[0mpath\u001b[0m\u001b[0;34m)\u001b[0m\u001b[0;34m\u001b[0m\u001b[0;34m\u001b[0m\u001b[0m\n\u001b[0m\u001b[1;32m    102\u001b[0m         \u001b[0;32mif\u001b[0m \u001b[0mself\u001b[0m\u001b[0;34m.\u001b[0m\u001b[0mtransform\u001b[0m \u001b[0;32mis\u001b[0m \u001b[0;32mnot\u001b[0m \u001b[0;32mNone\u001b[0m\u001b[0;34m:\u001b[0m\u001b[0;34m\u001b[0m\u001b[0;34m\u001b[0m\u001b[0m\n\u001b[1;32m    103\u001b[0m             \u001b[0msample\u001b[0m \u001b[0;34m=\u001b[0m \u001b[0mself\u001b[0m\u001b[0;34m.\u001b[0m\u001b[0mtransform\u001b[0m\u001b[0;34m(\u001b[0m\u001b[0msample\u001b[0m\u001b[0;34m)\u001b[0m\u001b[0;34m\u001b[0m\u001b[0;34m\u001b[0m\u001b[0m\n",
      "\u001b[0;32m~/anaconda3/envs/akshay/lib/python3.7/site-packages/torchvision/datasets/folder.py\u001b[0m in \u001b[0;36mdefault_loader\u001b[0;34m(path)\u001b[0m\n\u001b[1;32m    145\u001b[0m         \u001b[0;32mreturn\u001b[0m \u001b[0maccimage_loader\u001b[0m\u001b[0;34m(\u001b[0m\u001b[0mpath\u001b[0m\u001b[0;34m)\u001b[0m\u001b[0;34m\u001b[0m\u001b[0;34m\u001b[0m\u001b[0m\n\u001b[1;32m    146\u001b[0m     \u001b[0;32melse\u001b[0m\u001b[0;34m:\u001b[0m\u001b[0;34m\u001b[0m\u001b[0;34m\u001b[0m\u001b[0m\n\u001b[0;32m--> 147\u001b[0;31m         \u001b[0;32mreturn\u001b[0m \u001b[0mpil_loader\u001b[0m\u001b[0;34m(\u001b[0m\u001b[0mpath\u001b[0m\u001b[0;34m)\u001b[0m\u001b[0;34m\u001b[0m\u001b[0;34m\u001b[0m\u001b[0m\n\u001b[0m\u001b[1;32m    148\u001b[0m \u001b[0;34m\u001b[0m\u001b[0m\n\u001b[1;32m    149\u001b[0m \u001b[0;34m\u001b[0m\u001b[0m\n",
      "\u001b[0;32m~/anaconda3/envs/akshay/lib/python3.7/site-packages/torchvision/datasets/folder.py\u001b[0m in \u001b[0;36mpil_loader\u001b[0;34m(path)\u001b[0m\n\u001b[1;32m    128\u001b[0m     \u001b[0;32mwith\u001b[0m \u001b[0mopen\u001b[0m\u001b[0;34m(\u001b[0m\u001b[0mpath\u001b[0m\u001b[0;34m,\u001b[0m \u001b[0;34m'rb'\u001b[0m\u001b[0;34m)\u001b[0m \u001b[0;32mas\u001b[0m \u001b[0mf\u001b[0m\u001b[0;34m:\u001b[0m\u001b[0;34m\u001b[0m\u001b[0;34m\u001b[0m\u001b[0m\n\u001b[1;32m    129\u001b[0m         \u001b[0mimg\u001b[0m \u001b[0;34m=\u001b[0m \u001b[0mImage\u001b[0m\u001b[0;34m.\u001b[0m\u001b[0mopen\u001b[0m\u001b[0;34m(\u001b[0m\u001b[0mf\u001b[0m\u001b[0;34m)\u001b[0m\u001b[0;34m\u001b[0m\u001b[0;34m\u001b[0m\u001b[0m\n\u001b[0;32m--> 130\u001b[0;31m         \u001b[0;32mreturn\u001b[0m \u001b[0mimg\u001b[0m\u001b[0;34m.\u001b[0m\u001b[0mconvert\u001b[0m\u001b[0;34m(\u001b[0m\u001b[0;34m'RGB'\u001b[0m\u001b[0;34m)\u001b[0m\u001b[0;34m\u001b[0m\u001b[0;34m\u001b[0m\u001b[0m\n\u001b[0m\u001b[1;32m    131\u001b[0m \u001b[0;34m\u001b[0m\u001b[0m\n\u001b[1;32m    132\u001b[0m \u001b[0;34m\u001b[0m\u001b[0m\n",
      "\u001b[0;32m~/anaconda3/envs/akshay/lib/python3.7/site-packages/PIL/Image.py\u001b[0m in \u001b[0;36mconvert\u001b[0;34m(self, mode, matrix, dither, palette, colors)\u001b[0m\n\u001b[1;32m    897\u001b[0m         \"\"\"\n\u001b[1;32m    898\u001b[0m \u001b[0;34m\u001b[0m\u001b[0m\n\u001b[0;32m--> 899\u001b[0;31m         \u001b[0mself\u001b[0m\u001b[0;34m.\u001b[0m\u001b[0mload\u001b[0m\u001b[0;34m(\u001b[0m\u001b[0;34m)\u001b[0m\u001b[0;34m\u001b[0m\u001b[0;34m\u001b[0m\u001b[0m\n\u001b[0m\u001b[1;32m    900\u001b[0m \u001b[0;34m\u001b[0m\u001b[0m\n\u001b[1;32m    901\u001b[0m         \u001b[0;32mif\u001b[0m \u001b[0;32mnot\u001b[0m \u001b[0mmode\u001b[0m \u001b[0;32mand\u001b[0m \u001b[0mself\u001b[0m\u001b[0;34m.\u001b[0m\u001b[0mmode\u001b[0m \u001b[0;34m==\u001b[0m \u001b[0;34m\"P\"\u001b[0m\u001b[0;34m:\u001b[0m\u001b[0;34m\u001b[0m\u001b[0;34m\u001b[0m\u001b[0m\n",
      "\u001b[0;32m~/anaconda3/envs/akshay/lib/python3.7/site-packages/PIL/ImageFile.py\u001b[0m in \u001b[0;36mload\u001b[0;34m(self)\u001b[0m\n\u001b[1;32m    237\u001b[0m \u001b[0;34m\u001b[0m\u001b[0m\n\u001b[1;32m    238\u001b[0m                             \u001b[0mb\u001b[0m \u001b[0;34m=\u001b[0m \u001b[0mb\u001b[0m \u001b[0;34m+\u001b[0m \u001b[0ms\u001b[0m\u001b[0;34m\u001b[0m\u001b[0;34m\u001b[0m\u001b[0m\n\u001b[0;32m--> 239\u001b[0;31m                             \u001b[0mn\u001b[0m\u001b[0;34m,\u001b[0m \u001b[0merr_code\u001b[0m \u001b[0;34m=\u001b[0m \u001b[0mdecoder\u001b[0m\u001b[0;34m.\u001b[0m\u001b[0mdecode\u001b[0m\u001b[0;34m(\u001b[0m\u001b[0mb\u001b[0m\u001b[0;34m)\u001b[0m\u001b[0;34m\u001b[0m\u001b[0;34m\u001b[0m\u001b[0m\n\u001b[0m\u001b[1;32m    240\u001b[0m                             \u001b[0;32mif\u001b[0m \u001b[0mn\u001b[0m \u001b[0;34m<\u001b[0m \u001b[0;36m0\u001b[0m\u001b[0;34m:\u001b[0m\u001b[0;34m\u001b[0m\u001b[0;34m\u001b[0m\u001b[0m\n\u001b[1;32m    241\u001b[0m                                 \u001b[0;32mbreak\u001b[0m\u001b[0;34m\u001b[0m\u001b[0;34m\u001b[0m\u001b[0m\n",
      "\u001b[0;31mKeyboardInterrupt\u001b[0m: "
     ]
    }
   ],
   "source": [
    "train_acc_list = list()\n",
    "train_loss_list = list()\n",
    "val_loss_list = list()\n",
    "val_acc_list = list()\n",
    "\n",
    "if torch.cuda.is_available():\n",
    "    for q in range(1, layers):\n",
    "        var_name = str(q)\n",
    "        W[var_name] = W[var_name].cuda()\n",
    "        b[var_name] = b[var_name].cuda()\n",
    "        vdw[var_name] = vdw[var_name].cuda()\n",
    "        vdb[var_name] = vdb[var_name].cuda()\n",
    "        sdw[var_name] = sdw[var_name].cuda()\n",
    "        sdb[var_name] = sdb[var_name].cuda()\n",
    "        \n",
    "for j in range(num_epochs):\n",
    "    train_loss = 0\n",
    "    train_acc = 0\n",
    "    for batch_idx, (images, labels) in enumerate(train_loader):\n",
    "        if torch.cuda.is_available():\n",
    "            images, labels = images.cuda(), labels.cuda()\n",
    "            \n",
    "        labels = labels.float()\n",
    "        images = images.view(-1, images.shape[0]).float()\n",
    "        images /= 255\n",
    "\n",
    "        loss, pred = forward(images, labels)\n",
    "        train_loss += loss.item()\n",
    "\n",
    "        backward(pred, labels, images)\n",
    "\n",
    "        pred = (pred >= 0.5)\n",
    "        pred = pred.view(pred.shape[1])\n",
    "        mismatch = torch.sum(torch.eq(pred, labels.byte()))\n",
    "        train_acc += mismatch.item()\n",
    "        \n",
    "        \n",
    "    \n",
    "    update_weights(algo = 'rmsprop', learning_rate = 1e-6, beta2 = 0.999, epsilon = 1e-8)\n",
    "\n",
    "    train_loss /= len(train_loader)\n",
    "    train_loss_list.append(train_loss)\n",
    "    train_acc /= (len(train_loader) * batch_size)\n",
    "    train_acc_list.append(train_acc * 100)\n",
    "    # print('Training accuracy at epoch ', i, ' = ', acc * 100)\n",
    "    \n",
    "    val_loss = 0\n",
    "    val_acc = 0\n",
    "    for batch_idx, (val_images, val_labels) in enumerate(test_loader):\n",
    "        if torch.cuda.is_available():\n",
    "            val_images = val_images.cuda()\n",
    "            val_labels = val_labels.cuda()\n",
    "            \n",
    "        val_labels = val_labels.float()\n",
    "        val_images = val_images.view(-1, val_images.shape[0]).float()\n",
    "        val_images /= 255\n",
    "\n",
    "        loss, pred = forward(val_images, val_labels)\n",
    "        val_loss += loss.item()\n",
    "        pred = (pred >= 0.5)\n",
    "\n",
    "        pred = pred.view(pred.shape[1])\n",
    "        mismatch = torch.sum(torch.eq(pred, val_labels.byte()))\n",
    "        val_acc += mismatch.item()\n",
    "\n",
    "    val_loss /= len(test_loader)\n",
    "    val_loss_list.append(val_loss)\n",
    "    # print('Validation Loss at epoch ', i, ' = ', val_loss)\n",
    "\n",
    "    val_acc /= (len(test_loader) * 32)\n",
    "    val_acc_list.append(val_acc * 100)\n",
    "    \n",
    "    clear_output(wait = True)\n",
    "    print(f'Epoch : [{j} / {num_epochs}] | TL : {train_loss} | TA : {train_acc * 100} | VL : {val_loss} | VA : {val_acc * 100}')"
   ]
  },
  {
   "cell_type": "code",
   "execution_count": null,
   "metadata": {},
   "outputs": [],
   "source": []
  }
 ],
 "metadata": {
  "kernelspec": {
   "display_name": "Python 3",
   "language": "python",
   "name": "python3"
  },
  "language_info": {
   "codemirror_mode": {
    "name": "ipython",
    "version": 3
   },
   "file_extension": ".py",
   "mimetype": "text/x-python",
   "name": "python",
   "nbconvert_exporter": "python",
   "pygments_lexer": "ipython3",
   "version": "3.7.0"
  }
 },
 "nbformat": 4,
 "nbformat_minor": 2
}
