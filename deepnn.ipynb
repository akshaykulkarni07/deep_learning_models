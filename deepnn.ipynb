{
 "cells": [
  {
   "cell_type": "code",
   "execution_count": 1,
   "metadata": {},
   "outputs": [
    {
     "name": "stdout",
     "output_type": "stream",
     "text": [
      "0.4.1\n"
     ]
    }
   ],
   "source": [
    "%matplotlib inline\n",
    "%config InlineBackend.figure_format = 'retina'\n",
    "\n",
    "import matplotlib.pyplot as plt\n",
    "\n",
    "import torch\n",
    "print(torch.__version__)\n",
    "import torchvision\n",
    "from torchvision import datasets, transforms\n",
    "import torch.nn as nn\n",
    "\n",
    "from IPython.display import clear_output\n",
    "\n",
    "import helper"
   ]
  },
  {
   "cell_type": "markdown",
   "metadata": {},
   "source": [
    "# Batch Gradient Descent and Binary Classification"
   ]
  },
  {
   "cell_type": "code",
   "execution_count": 16,
   "metadata": {},
   "outputs": [],
   "source": [
    "data_dir = '/Users/akshaykulkarni/flowers/train/'\n",
    "batch_size = 1024\n",
    "tf = transforms.Compose([transforms.Resize((255, 255)),\n",
    "                         transforms.ToTensor(),\n",
    "                        ])\n",
    "\n",
    "train_dataset = datasets.ImageFolder(data_dir, transform = tf)\n",
    "\n",
    "train_loader = torch.utils.data.DataLoader(train_dataset, batch_size = batch_size, shuffle = True, drop_last = True)\n",
    "\n",
    "data_dir = '/Users/akshaykulkarni/flowers/test/'\n",
    "\n",
    "test_dataset = datasets.ImageFolder(data_dir, transform = tf)\n",
    "\n",
    "test_loader = torch.utils.data.DataLoader(test_dataset, batch_size = 32, shuffle = True, drop_last = True)"
   ]
  },
  {
   "cell_type": "markdown",
   "metadata": {},
   "source": [
    "### Loading all the images in the single batch and flattening"
   ]
  },
  {
   "cell_type": "code",
   "execution_count": 17,
   "metadata": {},
   "outputs": [
    {
     "name": "stdout",
     "output_type": "stream",
     "text": [
      "torch.Size([1024, 3, 255, 255])\n",
      "torch.Size([195075, 1024])\n",
      "torch.Size([1024])\n"
     ]
    }
   ],
   "source": [
    "images, labels = next(iter(train_loader))\n",
    "print(images.shape)\n",
    "images = images.view(-1, images.shape[0]).float()\n",
    "print(images.shape)\n",
    "images /= 255\n",
    "labels = labels.float()\n",
    "print(labels.shape)"
   ]
  },
  {
   "cell_type": "markdown",
   "metadata": {},
   "source": [
    "### Initializing the parameters using no. of nodes and no. of layers"
   ]
  },
  {
   "cell_type": "code",
   "execution_count": 25,
   "metadata": {},
   "outputs": [],
   "source": [
    "# no. of layers\n",
    "layers = 3\n",
    "# no. of nodes in each layer in a list including input and output layers\n",
    "num_nodes = [images.shape[0], 512, 1]\n",
    "num_epochs = 50\n",
    "\n",
    "# initializing weights according to no. of layers and no. of nodes\n",
    "assert(layers == len(num_nodes))\n",
    "W = {}\n",
    "b = {}\n",
    "Z = {}\n",
    "dw = {}\n",
    "db = {}\n",
    "da = {}\n",
    "dz = {}\n",
    "for i in range(1, layers):\n",
    "    var_name = str(i)\n",
    "    W[var_name] = torch.empty(num_nodes[i - 1], num_nodes[i])\n",
    "    # Xavier initialization of weights\n",
    "    nn.init.xavier_uniform_(W[var_name], gain=nn.init.calculate_gain('sigmoid'))\n",
    "    b[var_name] = torch.randn(num_nodes[i], 1)"
   ]
  },
  {
   "cell_type": "markdown",
   "metadata": {},
   "source": [
    "### Loss and Activation Functions"
   ]
  },
  {
   "cell_type": "code",
   "execution_count": 19,
   "metadata": {},
   "outputs": [],
   "source": [
    "def binary_cross_entropy(A, Y):\n",
    "    loss = (-1 / batch_size) * (torch.matmul(torch.log(A), Y) + torch.matmul(torch.log(1 - A), (1 - Y)))\n",
    "    return loss\n",
    "\n",
    "def sigmoid(x):\n",
    "    return (1 / (1 + torch.exp(-x)))"
   ]
  },
  {
   "cell_type": "markdown",
   "metadata": {},
   "source": [
    "### Forward Propagation"
   ]
  },
  {
   "cell_type": "code",
   "execution_count": 20,
   "metadata": {},
   "outputs": [],
   "source": [
    "def forward(x, y):\n",
    "    out = x\n",
    "    for i in range(1, layers):\n",
    "        var_name = str(i)\n",
    "        out = torch.add(torch.matmul(W[var_name].t(), out), b[var_name])\n",
    "        Z[var_name] = out\n",
    "        out = sigmoid(out)\n",
    "        \n",
    "    loss = binary_cross_entropy(out, y)\n",
    "    return loss, out"
   ]
  },
  {
   "cell_type": "code",
   "execution_count": 21,
   "metadata": {},
   "outputs": [],
   "source": [
    "# loss, out = forward(images, labels)\n",
    "# print(out)\n",
    "# print(loss)"
   ]
  },
  {
   "cell_type": "markdown",
   "metadata": {},
   "source": [
    "### Backward Propagation"
   ]
  },
  {
   "cell_type": "code",
   "execution_count": 22,
   "metadata": {},
   "outputs": [],
   "source": [
    "def backward(A, Y, X):\n",
    "    # for last layer\n",
    "    Y = Y.view(1, Y.shape[0])\n",
    "    last_layer = str(layers - 1)\n",
    "    second_last_layer = str(layers - 2)\n",
    "    dz[last_layer] = A - Y\n",
    "    dw[last_layer] = (1 / batch_size) * torch.matmul(dz[last_layer], sigmoid(Z[second_last_layer]).t())\n",
    "    dw[last_layer] = dw[last_layer].t()\n",
    "    db[last_layer] = (1 / batch_size) * torch.sum(dz[last_layer], 1, keepdim = True)\n",
    "    da[second_last_layer] = torch.matmul(W[last_layer], dz[last_layer])\n",
    "    for i in range(layers - 2, 0, -1):\n",
    "        var_name = str(i)\n",
    "        prev_name = str(i - 1)\n",
    "        g_dash_z = sigmoid(Z[var_name]) * (1 - sigmoid(Z[var_name]))\n",
    "        dz[var_name] = da[var_name] * g_dash_z\n",
    "        if i == 1:\n",
    "            dw[var_name] = (1 / batch_size) * torch.matmul(dz[var_name], X.t())\n",
    "        else:\n",
    "            dw[var_name] = (1 / batch_size) * torch.matmul(dz[var_name], sigmoid(Z[prev_name]).t())\n",
    "        dw[var_name] = dw[var_name].t()\n",
    "        db[var_name] = (1 / batch_size) * torch.sum(dz[var_name], 1, keepdim = True)\n",
    "        da[prev_name] = torch.matmul(W[var_name], dz[var_name])"
   ]
  },
  {
   "cell_type": "markdown",
   "metadata": {},
   "source": [
    "### Weights Update"
   ]
  },
  {
   "cell_type": "code",
   "execution_count": 23,
   "metadata": {},
   "outputs": [],
   "source": [
    "def update_weights(learning_rate):\n",
    "    for i in range(1, layers):\n",
    "        var_name = str(i)\n",
    "        assert(W[var_name].shape == dw[var_name].shape)\n",
    "        assert(b[var_name].shape == db[var_name].shape)\n",
    "        W[var_name] -= learning_rate * dw[var_name]\n",
    "        b[var_name] -= learning_rate * db[var_name]"
   ]
  },
  {
   "cell_type": "markdown",
   "metadata": {},
   "source": [
    "### Training and Validation Loop"
   ]
  },
  {
   "cell_type": "code",
   "execution_count": 27,
   "metadata": {},
   "outputs": [
    {
     "name": "stdout",
     "output_type": "stream",
     "text": [
      "Epoch : [0 / 50] | TL : 0.6926707029342651 | TA : 51.7578125 | VL : 0.02124036227663358 | VA : 65.625\n",
      "Epoch : [1 / 50] | TL : 0.6925833225250244 | TA : 51.7578125 | VL : 0.02127384270230929 | VA : 65.625\n",
      "Epoch : [2 / 50] | TL : 0.6925480365753174 | TA : 51.7578125 | VL : 0.021399987240632374 | VA : 61.458333333333336\n",
      "Epoch : [3 / 50] | TL : 0.6925339102745056 | TA : 51.7578125 | VL : 0.02133476051191489 | VA : 64.58333333333334\n",
      "Epoch : [4 / 50] | TL : 0.6925281286239624 | TA : 51.7578125 | VL : 0.021366935844222706 | VA : 63.541666666666664\n",
      "Epoch : [5 / 50] | TL : 0.6925258636474609 | TA : 51.7578125 | VL : 0.021276799341042835 | VA : 67.70833333333334\n",
      "Epoch : [6 / 50] | TL : 0.6925249099731445 | TA : 51.7578125 | VL : 0.021400481462478638 | VA : 62.5\n",
      "Epoch : [7 / 50] | TL : 0.6925245523452759 | TA : 51.7578125 | VL : 0.021329712122678757 | VA : 65.625\n",
      "Epoch : [8 / 50] | TL : 0.6925243139266968 | TA : 51.7578125 | VL : 0.02140310841302077 | VA : 62.5\n",
      "Epoch : [9 / 50] | TL : 0.6925241947174072 | TA : 51.7578125 | VL : 0.021332083890835445 | VA : 65.625\n",
      "Epoch : [10 / 50] | TL : 0.6925241947174072 | TA : 51.7578125 | VL : 0.02135557991762956 | VA : 64.58333333333334\n",
      "Epoch : [11 / 50] | TL : 0.6925241947174072 | TA : 51.7578125 | VL : 0.021311316639184952 | VA : 66.66666666666666\n",
      "Epoch : [12 / 50] | TL : 0.6925241947174072 | TA : 51.7578125 | VL : 0.021309046695629757 | VA : 66.66666666666666\n",
      "Epoch : [13 / 50] | TL : 0.6925241351127625 | TA : 51.7578125 | VL : 0.021378736943006516 | VA : 63.541666666666664\n",
      "Epoch : [14 / 50] | TL : 0.6925241351127625 | TA : 51.7578125 | VL : 0.02140280231833458 | VA : 62.5\n",
      "Epoch : [15 / 50] | TL : 0.6925240755081177 | TA : 51.7578125 | VL : 0.021402628471453983 | VA : 62.5\n",
      "Epoch : [16 / 50] | TL : 0.6925240755081177 | TA : 51.7578125 | VL : 0.021426218872268993 | VA : 61.458333333333336\n",
      "Epoch : [17 / 50] | TL : 0.6925241351127625 | TA : 51.7578125 | VL : 0.02128801556924979 | VA : 67.70833333333334\n",
      "Epoch : [18 / 50] | TL : 0.6925240159034729 | TA : 51.7578125 | VL : 0.021310326953728993 | VA : 66.66666666666666\n",
      "Epoch : [19 / 50] | TL : 0.6925240755081177 | TA : 51.7578125 | VL : 0.021402478218078613 | VA : 62.5\n",
      "Epoch : [20 / 50] | TL : 0.6925240755081177 | TA : 51.7578125 | VL : 0.02142532852788766 | VA : 61.458333333333336\n",
      "Epoch : [21 / 50] | TL : 0.6925240159034729 | TA : 51.7578125 | VL : 0.021355072657267254 | VA : 64.58333333333334\n",
      "Epoch : [22 / 50] | TL : 0.6925239562988281 | TA : 51.7578125 | VL : 0.021472205718358357 | VA : 59.375\n",
      "Epoch : [23 / 50] | TL : 0.6925239562988281 | TA : 51.7578125 | VL : 0.021356016397476196 | VA : 64.58333333333334\n",
      "Epoch : [24 / 50] | TL : 0.6925239562988281 | TA : 51.7578125 | VL : 0.021401789039373398 | VA : 62.5\n",
      "Epoch : [25 / 50] | TL : 0.6925239562988281 | TA : 51.7578125 | VL : 0.021425973623991013 | VA : 61.458333333333336\n",
      "Epoch : [26 / 50] | TL : 0.6925239562988281 | TA : 51.7578125 | VL : 0.02135474979877472 | VA : 64.58333333333334\n",
      "Epoch : [27 / 50] | TL : 0.6925239562988281 | TA : 51.7578125 | VL : 0.02140266386171182 | VA : 62.5\n",
      "Epoch : [28 / 50] | TL : 0.6925238966941833 | TA : 51.7578125 | VL : 0.021472812319795292 | VA : 59.375\n",
      "Epoch : [29 / 50] | TL : 0.6925238370895386 | TA : 51.7578125 | VL : 0.021334513400991757 | VA : 65.625\n",
      "Epoch : [30 / 50] | TL : 0.6925238370895386 | TA : 51.7578125 | VL : 0.02128615727027257 | VA : 67.70833333333334\n",
      "Epoch : [31 / 50] | TL : 0.6925238370895386 | TA : 51.7578125 | VL : 0.021355268235007923 | VA : 64.58333333333334\n",
      "Epoch : [32 / 50] | TL : 0.6925237774848938 | TA : 51.7578125 | VL : 0.021356855829556782 | VA : 64.58333333333334\n",
      "Epoch : [33 / 50] | TL : 0.6925238370895386 | TA : 51.7578125 | VL : 0.02142648088435332 | VA : 61.458333333333336\n",
      "Epoch : [34 / 50] | TL : 0.6925237774848938 | TA : 51.7578125 | VL : 0.021311148380239803 | VA : 66.66666666666666\n",
      "Epoch : [35 / 50] | TL : 0.692523717880249 | TA : 51.7578125 | VL : 0.02126423455774784 | VA : 68.75\n",
      "Epoch : [36 / 50] | TL : 0.692523717880249 | TA : 51.7578125 | VL : 0.021310048798720043 | VA : 66.66666666666666\n",
      "Epoch : [37 / 50] | TL : 0.692523717880249 | TA : 51.7578125 | VL : 0.021263200789690018 | VA : 68.75\n",
      "Epoch : [38 / 50] | TL : 0.692523717880249 | TA : 51.7578125 | VL : 0.02133381615082423 | VA : 65.625\n",
      "Epoch : [39 / 50] | TL : 0.692523717880249 | TA : 51.7578125 | VL : 0.021423958241939545 | VA : 61.458333333333336\n",
      "Epoch : [40 / 50] | TL : 0.692523717880249 | TA : 51.7578125 | VL : 0.021402000760038693 | VA : 62.5\n",
      "Epoch : [41 / 50] | TL : 0.6925236582756042 | TA : 51.7578125 | VL : 0.021380435675382614 | VA : 63.541666666666664\n",
      "Epoch : [42 / 50] | TL : 0.6925235986709595 | TA : 51.7578125 | VL : 0.021426116426785786 | VA : 61.458333333333336\n",
      "Epoch : [43 / 50] | TL : 0.6925235986709595 | TA : 51.7578125 | VL : 0.0213106336692969 | VA : 66.66666666666666\n",
      "Epoch : [44 / 50] | TL : 0.6925235986709595 | TA : 51.7578125 | VL : 0.021381485586365063 | VA : 63.541666666666664\n",
      "Epoch : [45 / 50] | TL : 0.6925235986709595 | TA : 51.7578125 | VL : 0.02137928456068039 | VA : 63.541666666666664\n",
      "Epoch : [46 / 50] | TL : 0.6925235390663147 | TA : 51.7578125 | VL : 0.021357849861184757 | VA : 64.58333333333334\n",
      "Epoch : [47 / 50] | TL : 0.6925235390663147 | TA : 51.7578125 | VL : 0.02138086035847664 | VA : 63.541666666666664\n",
      "Epoch : [48 / 50] | TL : 0.6925234794616699 | TA : 51.7578125 | VL : 0.021402858197689056 | VA : 62.5\n",
      "Epoch : [49 / 50] | TL : 0.6925234794616699 | TA : 51.7578125 | VL : 0.021426990007360775 | VA : 61.458333333333336\n"
     ]
    }
   ],
   "source": [
    "train_acc_list = list()\n",
    "train_loss_list = list()\n",
    "val_loss_list = list()\n",
    "val_acc_list = list()\n",
    "for j in range(num_epochs):\n",
    "    if torch.cuda.is_available():\n",
    "        for q in range(1, layers):\n",
    "            var_name = str(q)\n",
    "            W[var_name] = W[var_name].cuda()\n",
    "            b[var_name] = b[var_name].cuda()\n",
    "        \n",
    "        images, labels = images.cuda(), labels.cuda()\n",
    "    \n",
    "    loss, pred = forward(images, labels)\n",
    "    train_loss = loss.item()\n",
    "    train_loss_list.append(train_loss)\n",
    "    \n",
    "    backward(pred, labels, images)\n",
    "    \n",
    "    pred = (pred >= 0.5)\n",
    "    pred = pred.view(pred.shape[1])\n",
    "    mismatch = torch.sum(torch.eq(pred, labels.byte()))\n",
    "    train_acc = mismatch.item()\n",
    "    \n",
    "    update_weights(learning_rate = 0.01)\n",
    "\n",
    "    train_acc /= (len(train_loader) * batch_size)\n",
    "    train_acc_list.append(train_acc * 100)\n",
    "    # print('Training accuracy at epoch ', i, ' = ', acc * 100)\n",
    "    \n",
    "    val_loss = 0\n",
    "    val_acc = 0\n",
    "    for batch_idx, (val_images, val_labels) in enumerate(test_loader):\n",
    "        if torch.cuda.is_available():\n",
    "            val_images = val_images.cuda()\n",
    "            val_labels = val_labels.cuda()\n",
    "            for q in range(1, layers):\n",
    "                var_name = str(q)\n",
    "                W[var_name] = W[var_name].cuda()\n",
    "                b[var_name] = b[var_name].cuda()\n",
    "            \n",
    "        val_labels = val_labels.float()\n",
    "        val_images = val_images.view(-1, val_images.shape[0]).float()\n",
    "        val_images /= 255\n",
    "\n",
    "        loss, pred = forward(val_images, val_labels)\n",
    "        val_loss += loss.item()\n",
    "        pred = (pred >= 0.5)\n",
    "\n",
    "        pred = pred.view(pred.shape[1])\n",
    "        mismatch = torch.sum(torch.eq(pred, val_labels.byte()))\n",
    "        val_acc += mismatch.item()\n",
    "\n",
    "    val_loss /= len(test_loader)\n",
    "    val_loss_list.append(val_loss)\n",
    "    # print('Validation Loss at epoch ', i, ' = ', val_loss)\n",
    "\n",
    "    val_acc /= (len(test_loader) * 32)\n",
    "    val_acc_list.append(val_acc * 100)\n",
    "    \n",
    "    print(f'Epoch : [{j} / {num_epochs}] | TL : {train_loss} | TA : {train_acc * 100} | VL : {val_loss} | VA : {val_acc * 100}')"
   ]
  },
  {
   "cell_type": "markdown",
   "metadata": {},
   "source": [
    "### Saving Loss and Accuracy lists to memory"
   ]
  },
  {
   "cell_type": "code",
   "execution_count": null,
   "metadata": {},
   "outputs": [],
   "source": [
    "import csv\n",
    "\n",
    "csvfile = \"train_loss_list_deepnn.csv\"\n",
    "with open(csvfile, \"w\") as output:\n",
    "    writer = csv.writer(output, lineterminator='\\n')\n",
    "    for value in train_loss_list:\n",
    "        writer.writerow([value])\n",
    "\n",
    "csvfile = \"val_loss_list_deepnn.csv\"\n",
    "with open(csvfile, \"w\") as output:\n",
    "    writer = csv.writer(output, lineterminator='\\n')\n",
    "    for value in val_loss_list:\n",
    "        writer.writerow([value])\n",
    "\n",
    "csvfile = \"train_acc_list_deepnn.csv\"\n",
    "with open(csvfile, \"w\") as output:\n",
    "    writer = csv.writer(output, lineterminator='\\n')\n",
    "    for value in train_acc_list:\n",
    "        writer.writerow([value])\n",
    "\n",
    "csvfile = \"val_acc_list_deepnn.csv\"\n",
    "with open(csvfile, \"w\") as output:\n",
    "    writer = csv.writer(output, lineterminator='\\n')\n",
    "    for value in val_acc_list:\n",
    "        writer.writerow([value])"
   ]
  },
  {
   "cell_type": "markdown",
   "metadata": {},
   "source": [
    "### Plotting Losses and Accuracies"
   ]
  },
  {
   "cell_type": "code",
   "execution_count": null,
   "metadata": {},
   "outputs": [],
   "source": [
    "import matplotlib.pyplot as plt\n",
    "import csv\n",
    "import numpy as np\n",
    "\n",
    "with open('/home/ivlabs/Downloads/train_loss_list_deepnn.csv', 'r') as f:\n",
    "    reader = csv.reader(f)\n",
    "    train_loss_list2 = list(reader)\n",
    "\n",
    "train_loss_list = list()\n",
    "for i in train_loss_list2:\n",
    "    for j in i:\n",
    "        train_loss_list.append(float(j))\n",
    "        \n",
    "with open('/home/ivlabs/Downloads/train_acc_list_deepnn.csv', 'r') as f:\n",
    "    reader = csv.reader(f)\n",
    "    train_acc_list2 = list(reader)\n",
    "\n",
    "train_acc_list = list()\n",
    "for i in train_acc_list2:\n",
    "    for j in i:\n",
    "        train_acc_list.append(float(j))\n",
    "        \n",
    "with open('/home/ivlabs/Downloads/val_loss_list_deepnn.csv', 'r') as f:\n",
    "    reader = csv.reader(f)\n",
    "    val_loss_list2 = list(reader)\n",
    "\n",
    "val_loss_list = list()\n",
    "for i in val_loss_list2:\n",
    "    for j in i:\n",
    "        val_loss_list.append(float(j))\n",
    "        \n",
    "with open('/home/ivlabs/Downloads/val_acc_list_deepnn.csv', 'r') as f:\n",
    "    reader = csv.reader(f)\n",
    "    val_acc_list2 = list(reader)\n",
    "\n",
    "val_acc_list = list()\n",
    "for i in val_acc_list2:\n",
    "    for j in i:\n",
    "        val_acc_list.append(float(j))\n",
    "\n",
    "iterations = np.arange(0, 101, 1)\n",
    "plt.plot(iterations, train_loss_list, 'r')\n",
    "plt.plot(iterations, train_acc_list, 'g')\n",
    "plt.plot(iterations, val_loss_list, 'b')\n",
    "plt.plot(iterations, val_acc_list, 'y')\n",
    "plt.show()"
   ]
  }
 ],
 "metadata": {
  "kernelspec": {
   "display_name": "Python 3",
   "language": "python",
   "name": "python3"
  },
  "language_info": {
   "codemirror_mode": {
    "name": "ipython",
    "version": 3
   },
   "file_extension": ".py",
   "mimetype": "text/x-python",
   "name": "python",
   "nbconvert_exporter": "python",
   "pygments_lexer": "ipython3",
   "version": "3.7.0"
  }
 },
 "nbformat": 4,
 "nbformat_minor": 2
}
