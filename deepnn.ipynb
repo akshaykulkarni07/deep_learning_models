{
 "cells": [
  {
   "cell_type": "code",
   "execution_count": 1,
   "metadata": {},
   "outputs": [
    {
     "name": "stdout",
     "output_type": "stream",
     "text": [
      "0.4.1\n"
     ]
    }
   ],
   "source": [
    "%matplotlib inline\n",
    "%config InlineBackend.figure_format = 'retina'\n",
    "\n",
    "import matplotlib.pyplot as plt\n",
    "\n",
    "import torch\n",
    "print(torch.__version__)\n",
    "import torchvision\n",
    "from torchvision import datasets, transforms\n",
    "import torch.nn as nn\n",
    "\n",
    "from IPython.display import clear_output\n",
    "\n",
    "import helper"
   ]
  },
  {
   "cell_type": "markdown",
   "metadata": {},
   "source": [
    "# Batch Gradient Descent and Binary Classification"
   ]
  },
  {
   "cell_type": "code",
   "execution_count": 30,
   "metadata": {},
   "outputs": [],
   "source": [
    "data_dir = '/Users/akshaykulkarni/flowers/train/'\n",
    "batch_size = 1024\n",
    "tf = transforms.Compose([transforms.Resize((255, 255)),\n",
    "                         transforms.ToTensor(),\n",
    "                        ])\n",
    "\n",
    "train_dataset = datasets.ImageFolder(data_dir, transform = tf)\n",
    "\n",
    "train_loader = torch.utils.data.DataLoader(train_dataset, batch_size = batch_size, shuffle = True, drop_last = True)\n",
    "\n",
    "data_dir = '/Users/akshaykulkarni/flowers/test/'\n",
    "\n",
    "test_dataset = datasets.ImageFolder(data_dir, transform = tf)\n",
    "\n",
    "test_loader = torch.utils.data.DataLoader(test_dataset, batch_size = 32, shuffle = True, drop_last = True)"
   ]
  },
  {
   "cell_type": "code",
   "execution_count": 51,
   "metadata": {},
   "outputs": [
    {
     "name": "stdout",
     "output_type": "stream",
     "text": [
      "torch.Size([1024, 3, 255, 255])\n",
      "torch.Size([195075, 1024])\n",
      "torch.Size([1024])\n"
     ]
    }
   ],
   "source": [
    "# Loading all the images in the single batch and flattening\n",
    "images, labels = next(iter(train_loader))\n",
    "print(images.shape)\n",
    "images = images.view(-1, images.shape[0]).float()\n",
    "print(images.shape)\n",
    "images /= 255\n",
    "labels = labels.float()\n",
    "print(labels.shape)"
   ]
  },
  {
   "cell_type": "markdown",
   "metadata": {},
   "source": [
    "### Initializing the parameters using no. of nodes and no. of layers"
   ]
  },
  {
   "cell_type": "code",
   "execution_count": 91,
   "metadata": {},
   "outputs": [],
   "source": [
    "# no. of layers\n",
    "layers = 3\n",
    "# no. of nodes in each layer in a list including input and output layers\n",
    "num_nodes = [images.shape[0], 512, 1]\n",
    "num_epochs = 5\n",
    "\n",
    "# initializing weights according to no. of layers and no. of nodes\n",
    "assert(layers == len(num_nodes))\n",
    "W = {}\n",
    "b = {}\n",
    "Z = {}\n",
    "dw = {}\n",
    "db = {}\n",
    "da = {}\n",
    "dz = {}\n",
    "for i in range(1, layers):\n",
    "    var_name = str(i)\n",
    "    W[var_name] = torch.empty(num_nodes[i - 1], num_nodes[i])\n",
    "    # Xavier initialization of weights\n",
    "    nn.init.xavier_uniform_(W[var_name], gain=nn.init.calculate_gain('sigmoid'))\n",
    "    b[var_name] = torch.randn(num_nodes[i], 1)"
   ]
  },
  {
   "cell_type": "markdown",
   "metadata": {},
   "source": [
    "### Loss and Activation Functions"
   ]
  },
  {
   "cell_type": "code",
   "execution_count": 92,
   "metadata": {},
   "outputs": [],
   "source": [
    "def binary_cross_entropy(A, Y):\n",
    "    loss = (-1 / batch_size) * (torch.matmul(torch.log(A), Y) + torch.matmul(torch.log(1 - A), (1 - Y)))\n",
    "    return loss\n",
    "\n",
    "def sigmoid(x):\n",
    "    return (1 / (1 + torch.exp(-x)))"
   ]
  },
  {
   "cell_type": "markdown",
   "metadata": {},
   "source": [
    "### Forward Propagation"
   ]
  },
  {
   "cell_type": "code",
   "execution_count": 93,
   "metadata": {},
   "outputs": [],
   "source": [
    "def forward(x, y):\n",
    "    out = x\n",
    "    zero = str(0)\n",
    "    A[zero] = x\n",
    "    for i in range(1, layers):\n",
    "        var_name = str(i)\n",
    "        out = torch.add(torch.matmul(W[var_name].t(), out), b[var_name])\n",
    "        Z[var_name] = out\n",
    "        out = sigmoid(out)\n",
    "        print(out.shape)\n",
    "    \n",
    "    loss = binary_cross_entropy(out, y)\n",
    "    return loss, out"
   ]
  },
  {
   "cell_type": "code",
   "execution_count": 94,
   "metadata": {},
   "outputs": [],
   "source": [
    "# loss, out = forward(images, labels)\n",
    "# print(out)\n",
    "# print(loss)"
   ]
  },
  {
   "cell_type": "markdown",
   "metadata": {},
   "source": [
    "### Backward Propagation"
   ]
  },
  {
   "cell_type": "code",
   "execution_count": 109,
   "metadata": {},
   "outputs": [],
   "source": [
    "def backward(A, Y, X):\n",
    "    # for last layer\n",
    "    Y = Y.view(1, Y.shape[0])\n",
    "    last_layer = str(layers - 1)\n",
    "    second_last_layer = str(layers - 2)\n",
    "    dz[last_layer] = A - Y\n",
    "    dw[last_layer] = (1 / batch_size) * torch.matmul(dz[last_layer], sigmoid(Z[second_last_layer]).t())\n",
    "    dw[last_layer] = dw[last_layer].t()\n",
    "    db[last_layer] = (1 / batch_size) * torch.sum(dz[last_layer], 1, keepdim = True)\n",
    "    da[second_last_layer] = torch.matmul(W[last_layer], dz[last_layer])\n",
    "    for i in range(layers - 2, 0, -1):\n",
    "        var_name = str(i)\n",
    "        prev_name = str(i - 1)\n",
    "        g_dash_z = sigmoid(Z[var_name]) * (1 - sigmoid(Z[var_name]))\n",
    "        dz[var_name] = da[var_name] * g_dash_z\n",
    "        if i == 1:\n",
    "            dw[var_name] = (1 / batch_size) * torch.matmul(dz[var_name], X.t())\n",
    "        else:\n",
    "            dw[var_name] = (1 / batch_size) * torch.matmul(dz[var_name], sigmoid(Z[prev_name]).t())\n",
    "        dw[var_name] = dw[var_name].t()\n",
    "        db[var_name] = (1 / batch_size) * torch.sum(dz[var_name], 1, keepdim = True)\n",
    "        da[prev_name] = torch.matmul(W[var_name], dz[var_name])"
   ]
  },
  {
   "cell_type": "code",
   "execution_count": 110,
   "metadata": {},
   "outputs": [],
   "source": [
    "def update_weights(learning_rate):\n",
    "    for i in range(1, layers):\n",
    "        var_name = str(i)\n",
    "        print(W[var_name].shape)\n",
    "        print(dw[var_name].shape)\n",
    "        assert(W[var_name].shape == dw[var_name].shape)\n",
    "        assert(b[var_name].shape == db[var_name].shape)\n",
    "        W[var_name] -= learning_rate * dw[var_name]\n",
    "        b[var_name] -= learning_rate * db[var_name]"
   ]
  },
  {
   "cell_type": "markdown",
   "metadata": {},
   "source": [
    "### Training Loop"
   ]
  },
  {
   "cell_type": "code",
   "execution_count": 111,
   "metadata": {},
   "outputs": [
    {
     "name": "stdout",
     "output_type": "stream",
     "text": [
      "torch.Size([512, 1024])\n",
      "torch.Size([1, 1024])\n",
      "torch.Size([195075, 512])\n",
      "torch.Size([195075, 512])\n",
      "torch.Size([512, 1])\n",
      "torch.Size([512, 1])\n",
      "Epoch : [0 / 5 | Training Loss : 0.701448917388916]\n",
      "torch.Size([512, 1024])\n",
      "torch.Size([1, 1024])\n",
      "torch.Size([195075, 512])\n",
      "torch.Size([195075, 512])\n",
      "torch.Size([512, 1])\n",
      "torch.Size([512, 1])\n",
      "Epoch : [1 / 5 | Training Loss : 0.6963069438934326]\n",
      "torch.Size([512, 1024])\n",
      "torch.Size([1, 1024])\n",
      "torch.Size([195075, 512])\n",
      "torch.Size([195075, 512])\n",
      "torch.Size([512, 1])\n",
      "torch.Size([512, 1])\n",
      "Epoch : [2 / 5 | Training Loss : 0.6942684650421143]\n",
      "torch.Size([512, 1024])\n",
      "torch.Size([1, 1024])\n",
      "torch.Size([195075, 512])\n",
      "torch.Size([195075, 512])\n",
      "torch.Size([512, 1])\n",
      "torch.Size([512, 1])\n",
      "Epoch : [3 / 5 | Training Loss : 0.693467378616333]\n",
      "torch.Size([512, 1024])\n",
      "torch.Size([1, 1024])\n",
      "torch.Size([195075, 512])\n",
      "torch.Size([195075, 512])\n",
      "torch.Size([512, 1])\n",
      "torch.Size([512, 1])\n",
      "Epoch : [4 / 5 | Training Loss : 0.6931537985801697]\n"
     ]
    }
   ],
   "source": [
    "loss_list = list()\n",
    "for j in range(num_epochs):\n",
    "    if torch.cuda.is_available():\n",
    "        for q in range(1, layers):\n",
    "            var_name = str(q)\n",
    "            W[var_name] = W[var_name].cuda()\n",
    "            b[var_name] = b[var_name].cuda()\n",
    "        \n",
    "        images, labels = images.cuda(), labels.cuda()\n",
    "    \n",
    "    loss, pred = forward(images, labels)\n",
    "    \n",
    "    loss_list.append(loss.item())\n",
    "    \n",
    "    backward(pred, labels, images)\n",
    "    \n",
    "    update_weights(learning_rate = 0.01)\n",
    "    \n",
    "    print(f'Epoch : [{j} / {num_epochs} | Training Loss : {loss.item()}]')"
   ]
  },
  {
   "cell_type": "code",
   "execution_count": null,
   "metadata": {},
   "outputs": [],
   "source": []
  }
 ],
 "metadata": {
  "kernelspec": {
   "display_name": "Python 3",
   "language": "python",
   "name": "python3"
  },
  "language_info": {
   "codemirror_mode": {
    "name": "ipython",
    "version": 3
   },
   "file_extension": ".py",
   "mimetype": "text/x-python",
   "name": "python",
   "nbconvert_exporter": "python",
   "pygments_lexer": "ipython3",
   "version": "3.7.0"
  }
 },
 "nbformat": 4,
 "nbformat_minor": 2
}
